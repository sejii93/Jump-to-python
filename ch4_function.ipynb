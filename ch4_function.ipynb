{
  "nbformat": 4,
  "nbformat_minor": 0,
  "metadata": {
    "colab": {
      "name": "ch4_function.ipynb",
      "provenance": [],
      "toc_visible": true,
      "authorship_tag": "ABX9TyNtfTKxfe4LINaoKKmfxzwB",
      "include_colab_link": true
    },
    "kernelspec": {
      "name": "python3",
      "display_name": "Python 3"
    },
    "language_info": {
      "name": "python"
    }
  },
  "cells": [
    {
      "cell_type": "markdown",
      "metadata": {
        "id": "view-in-github",
        "colab_type": "text"
      },
      "source": [
        "<a href=\"https://colab.research.google.com/github/sejii93/Jump-to-python/blob/main/ch4_function.ipynb\" target=\"_parent\"><img src=\"https://colab.research.google.com/assets/colab-badge.svg\" alt=\"Open In Colab\"/></a>"
      ]
    },
    {
      "cell_type": "markdown",
      "source": [
        "4장 프로그램의 입력과 출력\n",
        "4-1 함수"
      ],
      "metadata": {
        "id": "o0Ol8Ofe_7L6"
      }
    },
    {
      "cell_type": "code",
      "execution_count": 1,
      "metadata": {
        "id": "N-SI4WsU_p-E"
      },
      "outputs": [],
      "source": [
        "def add(a,b):\n",
        "  return a + b\n",
        "   "
      ]
    },
    {
      "cell_type": "code",
      "source": [
        "a = 3\n",
        "b = 4 \n",
        "c = add(a,b)\n",
        "c"
      ],
      "metadata": {
        "colab": {
          "base_uri": "https://localhost:8080/"
        },
        "id": "0Vjs2W4JARi0",
        "outputId": "ef3de93d-c45f-4a9d-f7a7-9762a5e62f33"
      },
      "execution_count": 2,
      "outputs": [
        {
          "output_type": "execute_result",
          "data": {
            "text/plain": [
              "7"
            ]
          },
          "metadata": {},
          "execution_count": 2
        }
      ]
    },
    {
      "cell_type": "code",
      "source": [
        "print(add(5,8))"
      ],
      "metadata": {
        "colab": {
          "base_uri": "https://localhost:8080/"
        },
        "id": "WtH-1T9nAcKZ",
        "outputId": "793f79aa-22f5-4b72-f00f-7b82fa1741fc"
      },
      "execution_count": 3,
      "outputs": [
        {
          "output_type": "stream",
          "name": "stdout",
          "text": [
            "13\n"
          ]
        }
      ]
    },
    {
      "cell_type": "code",
      "source": [
        "def add(a,b):                # 일반적인 함수 형식 def    :\n",
        "  result =  a + b              \n",
        "  return result              #                      return "
      ],
      "metadata": {
        "id": "J6XNDsuiAiKf"
      },
      "execution_count": 5,
      "outputs": []
    },
    {
      "cell_type": "code",
      "source": [
        "a = add(14,35)\n",
        "print(a)"
      ],
      "metadata": {
        "colab": {
          "base_uri": "https://localhost:8080/"
        },
        "id": "0cC84rUqAvnK",
        "outputId": "791a0b20-e17f-46bc-9c70-a7bf75908016"
      },
      "execution_count": 6,
      "outputs": [
        {
          "output_type": "stream",
          "name": "stdout",
          "text": [
            "49\n"
          ]
        }
      ]
    },
    {
      "cell_type": "code",
      "source": [
        "def say() :\n",
        "  return 'Hi'"
      ],
      "metadata": {
        "id": "ziocLEIsBDQh"
      },
      "execution_count": 7,
      "outputs": []
    },
    {
      "cell_type": "code",
      "source": [
        "a = say()\n",
        "print(a)"
      ],
      "metadata": {
        "colab": {
          "base_uri": "https://localhost:8080/"
        },
        "id": "EkJ9Pl8bBQ2m",
        "outputId": "5fe4fcc3-51cf-4d9c-8212-f61d688971f8"
      },
      "execution_count": 8,
      "outputs": [
        {
          "output_type": "stream",
          "name": "stdout",
          "text": [
            "Hi\n"
          ]
        }
      ]
    },
    {
      "cell_type": "code",
      "source": [
        "def add(a, b) :\n",
        "  print(\"%d, %d의 합은 %d입니다.\" % (a, b, a+b) )"
      ],
      "metadata": {
        "id": "uaW15Ly1BVOm"
      },
      "execution_count": 9,
      "outputs": []
    },
    {
      "cell_type": "code",
      "source": [
        "add (19, 6)"
      ],
      "metadata": {
        "colab": {
          "base_uri": "https://localhost:8080/"
        },
        "id": "tFX_53sSBqbp",
        "outputId": "fbef0b41-e0e2-4c02-c26e-84e55fa01ba0"
      },
      "execution_count": 10,
      "outputs": [
        {
          "output_type": "stream",
          "name": "stdout",
          "text": [
            "19, 6의 합은 25입니다.\n"
          ]
        }
      ]
    },
    {
      "cell_type": "code",
      "source": [
        "a = add(19, 6)"
      ],
      "metadata": {
        "colab": {
          "base_uri": "https://localhost:8080/"
        },
        "id": "TCUnKr3ABwrB",
        "outputId": "1f802942-59a8-4cc9-9f8f-e1e65f9e05f4"
      },
      "execution_count": 11,
      "outputs": [
        {
          "output_type": "stream",
          "name": "stdout",
          "text": [
            "19, 6의 합은 25입니다.\n"
          ]
        }
      ]
    },
    {
      "cell_type": "code",
      "source": [
        "print(a)"
      ],
      "metadata": {
        "colab": {
          "base_uri": "https://localhost:8080/"
        },
        "id": "co9z0VkXCDz5",
        "outputId": "5aa488e5-578b-48c5-b8d1-e1272c0e72d5"
      },
      "execution_count": 12,
      "outputs": [
        {
          "output_type": "stream",
          "name": "stdout",
          "text": [
            "None\n"
          ]
        }
      ]
    },
    {
      "cell_type": "code",
      "source": [
        "def add(a, b):\n",
        "  return a+b"
      ],
      "metadata": {
        "id": "3LAyRh5UCG3f"
      },
      "execution_count": 13,
      "outputs": []
    },
    {
      "cell_type": "code",
      "source": [
        "result = add(a=5, b=9)\n",
        "print(result)"
      ],
      "metadata": {
        "colab": {
          "base_uri": "https://localhost:8080/"
        },
        "id": "b1F2fO1VCar5",
        "outputId": "a45e47f4-1b61-4d42-d1dd-fe43fac1d650"
      },
      "execution_count": 15,
      "outputs": [
        {
          "output_type": "stream",
          "name": "stdout",
          "text": [
            "14\n"
          ]
        }
      ]
    },
    {
      "cell_type": "code",
      "source": [
        "result = add(b=10, a=4)\n",
        "print(result)"
      ],
      "metadata": {
        "colab": {
          "base_uri": "https://localhost:8080/"
        },
        "id": "yS0CegjqCfeh",
        "outputId": "330124f8-cb1d-4511-e75f-f1731b32417a"
      },
      "execution_count": 17,
      "outputs": [
        {
          "output_type": "stream",
          "name": "stdout",
          "text": [
            "14\n"
          ]
        }
      ]
    },
    {
      "cell_type": "markdown",
      "source": [
        "여러개의 입력값을 받는 함수 만들기 (  def 함수이름 (*매개변수))"
      ],
      "metadata": {
        "id": "3Cvj1DhfC8Fh"
      }
    },
    {
      "cell_type": "code",
      "source": [
        "def add_many(*args):  # *arg처럼 매개변수 앞에 *를 붙이면 입력값을 전부 모아서 튜플로  만들어 준다. args는 무작위로 만든 변수임 \n",
        "  result = 0\n",
        "  for i in args:\n",
        "    result = result + i  #*arg에 입력받은 모든 값을 더한다\n",
        "  return result"
      ],
      "metadata": {
        "id": "qt3L0n5bCsBB"
      },
      "execution_count": 18,
      "outputs": []
    },
    {
      "cell_type": "code",
      "source": [
        "result = add_many(1,2,3)\n",
        "print(result)"
      ],
      "metadata": {
        "colab": {
          "base_uri": "https://localhost:8080/"
        },
        "id": "ud2L08tTDWAK",
        "outputId": "d6dac283-8814-4bd9-eca6-89cbf8effcb6"
      },
      "execution_count": 19,
      "outputs": [
        {
          "output_type": "stream",
          "name": "stdout",
          "text": [
            "6\n"
          ]
        }
      ]
    },
    {
      "cell_type": "code",
      "source": [
        "result = add_many(1,2,3,4,5,6,7,8,9,10)\n",
        "print(result)"
      ],
      "metadata": {
        "colab": {
          "base_uri": "https://localhost:8080/"
        },
        "id": "gmfsvBU1DxLC",
        "outputId": "e7eb1949-c46e-45ff-ae65-31d7a686721b"
      },
      "execution_count": 20,
      "outputs": [
        {
          "output_type": "stream",
          "name": "stdout",
          "text": [
            "55\n"
          ]
        }
      ]
    },
    {
      "cell_type": "markdown",
      "source": [
        "여러개의 입력을 처리할때 def add_many(*args)처럼 함수의 매개변수로 *args만 사용할 수 있는 것은 아니다\n"
      ],
      "metadata": {
        "id": "SsZuryNXEJ4A"
      }
    },
    {
      "cell_type": "code",
      "source": [
        "def add_mul(choice, *args):\n",
        "  if choice == \"add\":   # 매개변수 choice에 'add'를 입력받았을 때\n",
        "     result = 0\n",
        "     for i in args:\n",
        "       result = result + i  # args에 입력받은 모든 값을 더한다\n",
        "  elif choice == \"mul\":  #매개변수 choice에 'mul'을 입력받았을 때\n",
        "     result = 1\n",
        "     for i in args:\n",
        "       result = result * i  # args에 입력받은 모든 값을 곱한다\n",
        "  return result"
      ],
      "metadata": {
        "id": "feHV-IgsEYx1"
      },
      "execution_count": 1,
      "outputs": []
    },
    {
      "cell_type": "code",
      "source": [
        "result = add_mul('add', 1,2,3,4,5)\n",
        "print(result)"
      ],
      "metadata": {
        "colab": {
          "base_uri": "https://localhost:8080/"
        },
        "id": "VeWw0HuUD6F4",
        "outputId": "3a8e01ae-3a72-4148-e132-cfdd7c1cf496"
      },
      "execution_count": 6,
      "outputs": [
        {
          "output_type": "stream",
          "name": "stdout",
          "text": [
            "15\n"
          ]
        }
      ]
    },
    {
      "cell_type": "code",
      "source": [
        "result = add_mul('mul', 1,2,3,4,5)\n",
        "print(result)"
      ],
      "metadata": {
        "colab": {
          "base_uri": "https://localhost:8080/"
        },
        "id": "M7Z6kC6bFpaJ",
        "outputId": "65eae41f-a804-4489-a503-4220ab156dfc"
      },
      "execution_count": 5,
      "outputs": [
        {
          "output_type": "stream",
          "name": "stdout",
          "text": [
            "120\n"
          ]
        }
      ]
    },
    {
      "cell_type": "markdown",
      "source": [
        "키워드 파라미터 (매개변수 앞에 **를 붙인다) - key=value 형태의 딕셔너리에 저장된다"
      ],
      "metadata": {
        "id": "5xXU_gBgGzfp"
      }
    },
    {
      "cell_type": "code",
      "source": [
        "def print_kwargs(**kwargs):\n",
        "  print(kwargs)"
      ],
      "metadata": {
        "id": "_RAiGP20GY3x"
      },
      "execution_count": 7,
      "outputs": []
    },
    {
      "cell_type": "code",
      "source": [
        "print_kwargs(a=1)"
      ],
      "metadata": {
        "colab": {
          "base_uri": "https://localhost:8080/"
        },
        "id": "n9UAxJMWHBIw",
        "outputId": "54c116cb-5a9d-4845-8f25-dbd173c41fd8"
      },
      "execution_count": 8,
      "outputs": [
        {
          "output_type": "stream",
          "name": "stdout",
          "text": [
            "{'a': 1}\n"
          ]
        }
      ]
    },
    {
      "cell_type": "code",
      "source": [
        "print_kwargs(name='foo', age=3)"
      ],
      "metadata": {
        "colab": {
          "base_uri": "https://localhost:8080/"
        },
        "id": "emhz0yTaHG-4",
        "outputId": "e659f2bb-2221-4e43-a180-d47db0c322ee"
      },
      "execution_count": 9,
      "outputs": [
        {
          "output_type": "stream",
          "name": "stdout",
          "text": [
            "{'name': 'foo', 'age': 3}\n"
          ]
        }
      ]
    },
    {
      "cell_type": "code",
      "source": [
        "def add_and_mul(a,b):\n",
        "  return a+b, a*b   #2개의 매개변수를 받아 더한 값과 곱한 값을 돌려준다"
      ],
      "metadata": {
        "id": "8tIb6fp0HbuQ"
      },
      "execution_count": 10,
      "outputs": []
    },
    {
      "cell_type": "code",
      "source": [
        "result = add_and_mul (6,7)\n",
        "print(result)        # result라는 변수하나에 결과가 두개이지만, 튜플값의 형태인 (a_b, a*b)로 돌려준다"
      ],
      "metadata": {
        "colab": {
          "base_uri": "https://localhost:8080/"
        },
        "id": "RaUxZDEjHrZq",
        "outputId": "ddc46d13-2c1c-4a22-fb94-330f6acd55ea"
      },
      "execution_count": 12,
      "outputs": [
        {
          "output_type": "stream",
          "name": "stdout",
          "text": [
            "(13, 42)\n"
          ]
        }
      ]
    },
    {
      "cell_type": "code",
      "source": [
        "result1, result2 = add_and_mul(8,4)\n",
        "print(result1, result2)"
      ],
      "metadata": {
        "colab": {
          "base_uri": "https://localhost:8080/"
        },
        "id": "Uv6wY_LhH0LI",
        "outputId": "2ad451cd-96f1-45ed-bf5e-603f81e88b37"
      },
      "execution_count": 13,
      "outputs": [
        {
          "output_type": "stream",
          "name": "stdout",
          "text": [
            "12 32\n"
          ]
        }
      ]
    },
    {
      "cell_type": "markdown",
      "source": [
        "함수는 return을 만나면 빠져나간다"
      ],
      "metadata": {
        "id": "-Oc9sejtIgso"
      }
    },
    {
      "cell_type": "code",
      "source": [
        "def add_and_mul(a,b):\n",
        "  return a+b  # 함수를 빠져나간다. \n",
        "  return a*b  # 이 문장은 실행되지 않는다"
      ],
      "metadata": {
        "id": "97X8fCtbIQVe"
      },
      "execution_count": 14,
      "outputs": []
    },
    {
      "cell_type": "code",
      "source": [
        "result = add_and_mul (5,4)\n",
        "print(result) "
      ],
      "metadata": {
        "colab": {
          "base_uri": "https://localhost:8080/"
        },
        "id": "GsiEZqI6IwWp",
        "outputId": "0138b36b-6935-4cf8-ba7d-cfd960ef1b46"
      },
      "execution_count": 15,
      "outputs": [
        {
          "output_type": "stream",
          "name": "stdout",
          "text": [
            "9\n"
          ]
        }
      ]
    },
    {
      "cell_type": "markdown",
      "source": [
        "특별한 상황에서 return을 단독으로 사용하여 함수를 즉시 빠져나가기"
      ],
      "metadata": {
        "id": "C4YdvP1iI823"
      }
    },
    {
      "cell_type": "code",
      "source": [
        "def say_nick(nick):\n",
        "  if nick == '바보':\n",
        "    return\n",
        "  print(\"나의 별명은 %s입니다\" % nick)"
      ],
      "metadata": {
        "id": "JyuvE7lTI3FH"
      },
      "execution_count": 18,
      "outputs": []
    },
    {
      "cell_type": "code",
      "source": [
        "say_nick('야호')"
      ],
      "metadata": {
        "colab": {
          "base_uri": "https://localhost:8080/"
        },
        "id": "0yGDlw6oJQyw",
        "outputId": "5b9c8591-b2a7-48b1-8e0c-fe4c8c0d291f"
      },
      "execution_count": 19,
      "outputs": [
        {
          "output_type": "stream",
          "name": "stdout",
          "text": [
            "나의 별명은 야호입니다\n"
          ]
        }
      ]
    },
    {
      "cell_type": "code",
      "source": [
        "say_nick('바보')   # 함수를 즉시 빠져나간다"
      ],
      "metadata": {
        "id": "sWLnB19SJety"
      },
      "execution_count": 21,
      "outputs": []
    },
    {
      "cell_type": "markdown",
      "source": [
        "매개변수에 초기값 미리 설정하기"
      ],
      "metadata": {
        "id": "Vor48HEXJzpg"
      }
    },
    {
      "cell_type": "code",
      "source": [
        "def say_myself(name, old, man=True):  # 이 함수는 3개의 매개변수를 받아 마지막 인수인 man이 true면 남자, flase이면 여자를  출력\n",
        "  print(\"나의 이름은 %s입니다\" %name)\n",
        "  print(\"나이는 %d입니다\" %old)\n",
        "  if man:\n",
        "    print(\"남자입니다\")\n",
        "  else:\n",
        "    print(\"여자입니다\")"
      ],
      "metadata": {
        "id": "Mrct_7WlJhZq"
      },
      "execution_count": 24,
      "outputs": []
    },
    {
      "cell_type": "code",
      "source": [
        "say_myself(\"서정수\", 47)"
      ],
      "metadata": {
        "colab": {
          "base_uri": "https://localhost:8080/"
        },
        "id": "Ah6J9IRcKOYi",
        "outputId": "7b5c4ff8-5241-45cd-fa22-f9df7fe97286"
      },
      "execution_count": 25,
      "outputs": [
        {
          "output_type": "stream",
          "name": "stdout",
          "text": [
            "나의 이름은 서정수입니다\n",
            "나이는 47입니다\n",
            "남자입니다\n"
          ]
        }
      ]
    },
    {
      "cell_type": "code",
      "source": [
        "say_myself(\"서정수\", 47, True)"
      ],
      "metadata": {
        "colab": {
          "base_uri": "https://localhost:8080/"
        },
        "id": "J0Ryn93rKg84",
        "outputId": "3bcc48b7-9568-4a6b-f8ee-8c5c2a5107ca"
      },
      "execution_count": 26,
      "outputs": [
        {
          "output_type": "stream",
          "name": "stdout",
          "text": [
            "나의 이름은 서정수입니다\n",
            "나이는 47입니다\n",
            "남자입니다\n"
          ]
        }
      ]
    },
    {
      "cell_type": "code",
      "source": [
        "say_myself(\"박응선\", 27, False)"
      ],
      "metadata": {
        "colab": {
          "base_uri": "https://localhost:8080/"
        },
        "id": "pZYi3gR8KuIf",
        "outputId": "1d7f11b7-3017-4e50-d5d9-99256395a7fd"
      },
      "execution_count": 27,
      "outputs": [
        {
          "output_type": "stream",
          "name": "stdout",
          "text": [
            "나의 이름은 박응선입니다\n",
            "나이는 27입니다\n",
            "여자입니다\n"
          ]
        }
      ]
    },
    {
      "cell_type": "markdown",
      "source": [
        "함수대신 간편하기 람다사용하기"
      ],
      "metadata": {
        "id": "QxS-A7vjLyPc"
      }
    },
    {
      "cell_type": "code",
      "source": [
        "add = lambda a, b: a+b    # 람다는 return명령어가 없어도 결과값을 돌려준다\n",
        "result = add(3,8)\n",
        "print(result)"
      ],
      "metadata": {
        "colab": {
          "base_uri": "https://localhost:8080/"
        },
        "id": "jaBZyZOeK4k4",
        "outputId": "c90c416f-deee-47e5-f5f7-50c050371fb5"
      },
      "execution_count": 30,
      "outputs": [
        {
          "output_type": "stream",
          "name": "stdout",
          "text": [
            "11\n"
          ]
        }
      ]
    },
    {
      "cell_type": "code",
      "source": [
        ""
      ],
      "metadata": {
        "id": "P6ksvd1bL_sY"
      },
      "execution_count": null,
      "outputs": []
    },
    {
      "cell_type": "markdown",
      "source": [
        "04-2 사용자 입력과 출력"
      ],
      "metadata": {
        "id": "3XLEjiWwMp70"
      }
    },
    {
      "cell_type": "code",
      "source": [
        "a = input()          # input은 입력되는 모든 것을 문자열로 취급한다"
      ],
      "metadata": {
        "colab": {
          "base_uri": "https://localhost:8080/"
        },
        "id": "8fzcfgILMtUC",
        "outputId": "5b994e37-1515-4920-8c77-dd091eb9a5ae"
      },
      "execution_count": 31,
      "outputs": [
        {
          "name": "stdout",
          "output_type": "stream",
          "text": [
            "Life is too short, you need pytthon\n"
          ]
        }
      ]
    },
    {
      "cell_type": "code",
      "source": [
        "a"
      ],
      "metadata": {
        "colab": {
          "base_uri": "https://localhost:8080/",
          "height": 36
        },
        "id": "QnF9SXy7MzN4",
        "outputId": "31076995-53bb-4610-9b3f-495e62761f3f"
      },
      "execution_count": 32,
      "outputs": [
        {
          "output_type": "execute_result",
          "data": {
            "text/plain": [
              "'Life is too short, you need pytthon'"
            ],
            "application/vnd.google.colaboratory.intrinsic+json": {
              "type": "string"
            }
          },
          "metadata": {},
          "execution_count": 32
        }
      ]
    },
    {
      "cell_type": "code",
      "source": [
        "number = input(\"숫자를 입력하시오: \")"
      ],
      "metadata": {
        "colab": {
          "base_uri": "https://localhost:8080/"
        },
        "id": "K5-U3brnM8Lv",
        "outputId": "09c4a82e-d1a7-4c53-c438-c0ae7d12f9cf"
      },
      "execution_count": 33,
      "outputs": [
        {
          "name": "stdout",
          "output_type": "stream",
          "text": [
            "숫자를 입력하시오: 4\n"
          ]
        }
      ]
    },
    {
      "cell_type": "code",
      "source": [
        "print(number)"
      ],
      "metadata": {
        "colab": {
          "base_uri": "https://localhost:8080/"
        },
        "id": "jWo7Jg0dNOQv",
        "outputId": "bac7c715-08ae-4af1-889d-902592c48f76"
      },
      "execution_count": 35,
      "outputs": [
        {
          "output_type": "stream",
          "name": "stdout",
          "text": [
            "4\n"
          ]
        }
      ]
    },
    {
      "cell_type": "code",
      "source": [
        "for i in range(10):        # 한줄에 결과값을 이어서 출력하기\n",
        "  print(i, end= ' ')"
      ],
      "metadata": {
        "colab": {
          "base_uri": "https://localhost:8080/"
        },
        "id": "-qZW_5WLNRgH",
        "outputId": "f57b0517-3bba-466f-b060-2a44b3aeb6db"
      },
      "execution_count": 36,
      "outputs": [
        {
          "output_type": "stream",
          "name": "stdout",
          "text": [
            "0 1 2 3 4 5 6 7 8 9 "
          ]
        }
      ]
    },
    {
      "cell_type": "code",
      "source": [
        ""
      ],
      "metadata": {
        "id": "_2qJtCKPNqTK"
      },
      "execution_count": null,
      "outputs": []
    },
    {
      "cell_type": "markdown",
      "source": [
        "04-3 파일 읽고 쓰기"
      ],
      "metadata": {
        "id": "qC09UpjqN6iA"
      }
    },
    {
      "cell_type": "code",
      "source": [
        "f = open(\"새파일.txt\", 'w')   # r-읽기모드, w-쓰기모드,  a-추가모드: 파일의 마지막에 새로운 내용을 추가할 때 사용\n",
        "f.close()"
      ],
      "metadata": {
        "id": "ZUPOhHAsN9iR"
      },
      "execution_count": 37,
      "outputs": []
    },
    {
      "cell_type": "code",
      "source": [
        ""
      ],
      "metadata": {
        "id": "QrLRdpG6OW-Q"
      },
      "execution_count": null,
      "outputs": []
    },
    {
      "cell_type": "markdown",
      "source": [
        "연습문제"
      ],
      "metadata": {
        "id": "s6hYQ3KMPR1l"
      }
    },
    {
      "cell_type": "code",
      "source": [
        "# 주어진 자연수가 홀수인지 짝수인지 판별해 주는 함수(is_odd) 작성\n",
        "\n",
        "def is_odd(number):\n",
        "  if number % 2 == 1:    # 2로 나누었을 때 나머지가 1이면 홀수\n",
        "      return \"홀수\"\n",
        "  else:\n",
        "      return \"짝수\""
      ],
      "metadata": {
        "id": "k8i2l3jpPUfg"
      },
      "execution_count": 42,
      "outputs": []
    },
    {
      "cell_type": "code",
      "source": [
        "is_odd(7)"
      ],
      "metadata": {
        "colab": {
          "base_uri": "https://localhost:8080/",
          "height": 36
        },
        "id": "47McvAjKP7bP",
        "outputId": "392e9703-e8a5-46b2-8dd8-d3d59d53a9a6"
      },
      "execution_count": 43,
      "outputs": [
        {
          "output_type": "execute_result",
          "data": {
            "text/plain": [
              "'홀수'"
            ],
            "application/vnd.google.colaboratory.intrinsic+json": {
              "type": "string"
            }
          },
          "metadata": {},
          "execution_count": 43
        }
      ]
    },
    {
      "cell_type": "code",
      "source": [
        "is_odd(16)"
      ],
      "metadata": {
        "colab": {
          "base_uri": "https://localhost:8080/",
          "height": 36
        },
        "id": "QOUM3iE8P_EH",
        "outputId": "87a7284e-2c6b-4e89-f12f-3c939d61c4b7"
      },
      "execution_count": 44,
      "outputs": [
        {
          "output_type": "execute_result",
          "data": {
            "text/plain": [
              "'짝수'"
            ],
            "application/vnd.google.colaboratory.intrinsic+json": {
              "type": "string"
            }
          },
          "metadata": {},
          "execution_count": 44
        }
      ]
    },
    {
      "cell_type": "code",
      "source": [
        "# 람다와 조건부 표현식을 사용하면 더욱 간단한다\n",
        "is_odd = lambda x: \"홀수\" if x %2 == 1 else \"짝수\"\n",
        "is_odd(17)"
      ],
      "metadata": {
        "colab": {
          "base_uri": "https://localhost:8080/",
          "height": 36
        },
        "id": "j9GwW7tuQeRU",
        "outputId": "20583f25-1894-4a4f-c2cd-162dc38c4a59"
      },
      "execution_count": 45,
      "outputs": [
        {
          "output_type": "execute_result",
          "data": {
            "text/plain": [
              "'홀수'"
            ],
            "application/vnd.google.colaboratory.intrinsic+json": {
              "type": "string"
            }
          },
          "metadata": {},
          "execution_count": 45
        }
      ]
    },
    {
      "cell_type": "code",
      "source": [
        "# 입력으로 들어오는 모든 수의 평균값을 계산하는 함수 (단, 입력으로 들어오는 수의 개수는 정해져 있지 않다)\n",
        "\n",
        "def avg_number(*args):\n",
        "  result = 0\n",
        "  for i in args:\n",
        "    result += i\n",
        "  return result / len(args)"
      ],
      "metadata": {
        "id": "mzWVojenQAsu"
      },
      "execution_count": 46,
      "outputs": []
    },
    {
      "cell_type": "code",
      "source": [
        "avg_number(1,2)"
      ],
      "metadata": {
        "colab": {
          "base_uri": "https://localhost:8080/"
        },
        "id": "BYyBZ81IRHTv",
        "outputId": "83a0768f-a964-4d15-9a3c-0998cc8e8ce7"
      },
      "execution_count": 47,
      "outputs": [
        {
          "output_type": "execute_result",
          "data": {
            "text/plain": [
              "1.5"
            ]
          },
          "metadata": {},
          "execution_count": 47
        }
      ]
    },
    {
      "cell_type": "code",
      "source": [
        "avg_number(1,2,3,4,5,6,7,8,9)"
      ],
      "metadata": {
        "colab": {
          "base_uri": "https://localhost:8080/"
        },
        "id": "3akIpFaFRJmm",
        "outputId": "02cb0d7a-69e4-41a9-cae0-ac4a30d353f3"
      },
      "execution_count": 51,
      "outputs": [
        {
          "output_type": "execute_result",
          "data": {
            "text/plain": [
              "5.0"
            ]
          },
          "metadata": {},
          "execution_count": 51
        }
      ]
    },
    {
      "cell_type": "code",
      "source": [
        "# 다음 두개의 숫자를 입력받아 더하여 돌려주는 프로그램\n",
        "\n",
        "input1 = input(\"첫번째 숫자를 입력하시오: \")\n",
        "input2 = input(\"두번째 숫자를 입력하시오: \")\n",
        "\n",
        "total = int(input1) + int(input2)     # 입력ㄷ은 항상 문자열이므로 숫자로 바꾸어 주어야 한다\n",
        "print(\"두수의 합은 %s입니다\" % total)"
      ],
      "metadata": {
        "colab": {
          "base_uri": "https://localhost:8080/"
        },
        "id": "q93cBvaaRN0X",
        "outputId": "ba73f428-e7d5-43ea-c71b-1a9c6627627b"
      },
      "execution_count": 53,
      "outputs": [
        {
          "output_type": "stream",
          "name": "stdout",
          "text": [
            "첫번째 숫자를 입력하시오: 9\n",
            "두번째 숫자를 입력하시오: 7\n",
            "두수의 합은 16입니다\n"
          ]
        }
      ]
    },
    {
      "cell_type": "code",
      "source": [
        ""
      ],
      "metadata": {
        "id": "hvbKGSnWR5W3"
      },
      "execution_count": null,
      "outputs": []
    }
  ]
}