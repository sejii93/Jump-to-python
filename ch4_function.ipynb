{
  "nbformat": 4,
  "nbformat_minor": 0,
  "metadata": {
    "colab": {
      "name": "ch4_function.ipynb",
      "provenance": [],
      "authorship_tag": "ABX9TyNm7It+z4HRSYVKgsuZLJ1g",
      "include_colab_link": true
    },
    "kernelspec": {
      "name": "python3",
      "display_name": "Python 3"
    },
    "language_info": {
      "name": "python"
    }
  },
  "cells": [
    {
      "cell_type": "markdown",
      "metadata": {
        "id": "view-in-github",
        "colab_type": "text"
      },
      "source": [
        "<a href=\"https://colab.research.google.com/github/sejii93/Jump-to-python/blob/main/ch4_function.ipynb\" target=\"_parent\"><img src=\"https://colab.research.google.com/assets/colab-badge.svg\" alt=\"Open In Colab\"/></a>"
      ]
    },
    {
      "cell_type": "markdown",
      "source": [
        "4장 프로그램의 입력과 출력\n",
        "4-1 함수"
      ],
      "metadata": {
        "id": "o0Ol8Ofe_7L6"
      }
    },
    {
      "cell_type": "code",
      "execution_count": 1,
      "metadata": {
        "id": "N-SI4WsU_p-E"
      },
      "outputs": [],
      "source": [
        "def add(a,b):\n",
        "  return a + b\n",
        "   "
      ]
    },
    {
      "cell_type": "code",
      "source": [
        "a = 3\n",
        "b = 4 \n",
        "c = add(a,b)\n",
        "c"
      ],
      "metadata": {
        "colab": {
          "base_uri": "https://localhost:8080/"
        },
        "id": "0Vjs2W4JARi0",
        "outputId": "ef3de93d-c45f-4a9d-f7a7-9762a5e62f33"
      },
      "execution_count": 2,
      "outputs": [
        {
          "output_type": "execute_result",
          "data": {
            "text/plain": [
              "7"
            ]
          },
          "metadata": {},
          "execution_count": 2
        }
      ]
    },
    {
      "cell_type": "code",
      "source": [
        "print(add(5,8))"
      ],
      "metadata": {
        "colab": {
          "base_uri": "https://localhost:8080/"
        },
        "id": "WtH-1T9nAcKZ",
        "outputId": "793f79aa-22f5-4b72-f00f-7b82fa1741fc"
      },
      "execution_count": 3,
      "outputs": [
        {
          "output_type": "stream",
          "name": "stdout",
          "text": [
            "13\n"
          ]
        }
      ]
    },
    {
      "cell_type": "code",
      "source": [
        "def add(a,b):                # 일반적인 함수 형식 def    :\n",
        "  result =  a + b              \n",
        "  return result              #                      return "
      ],
      "metadata": {
        "id": "J6XNDsuiAiKf"
      },
      "execution_count": 5,
      "outputs": []
    },
    {
      "cell_type": "code",
      "source": [
        "a = add(14,35)\n",
        "print(a)"
      ],
      "metadata": {
        "colab": {
          "base_uri": "https://localhost:8080/"
        },
        "id": "0cC84rUqAvnK",
        "outputId": "791a0b20-e17f-46bc-9c70-a7bf75908016"
      },
      "execution_count": 6,
      "outputs": [
        {
          "output_type": "stream",
          "name": "stdout",
          "text": [
            "49\n"
          ]
        }
      ]
    },
    {
      "cell_type": "code",
      "source": [
        "def say() :\n",
        "  return 'Hi'"
      ],
      "metadata": {
        "id": "ziocLEIsBDQh"
      },
      "execution_count": 7,
      "outputs": []
    },
    {
      "cell_type": "code",
      "source": [
        "a = say()\n",
        "print(a)"
      ],
      "metadata": {
        "colab": {
          "base_uri": "https://localhost:8080/"
        },
        "id": "EkJ9Pl8bBQ2m",
        "outputId": "5fe4fcc3-51cf-4d9c-8212-f61d688971f8"
      },
      "execution_count": 8,
      "outputs": [
        {
          "output_type": "stream",
          "name": "stdout",
          "text": [
            "Hi\n"
          ]
        }
      ]
    },
    {
      "cell_type": "code",
      "source": [
        "def add(a, b) :\n",
        "  print(\"%d, %d의 합은 %d입니다.\" % (a, b, a+b) )"
      ],
      "metadata": {
        "id": "uaW15Ly1BVOm"
      },
      "execution_count": 9,
      "outputs": []
    },
    {
      "cell_type": "code",
      "source": [
        "add (19, 6)"
      ],
      "metadata": {
        "colab": {
          "base_uri": "https://localhost:8080/"
        },
        "id": "tFX_53sSBqbp",
        "outputId": "fbef0b41-e0e2-4c02-c26e-84e55fa01ba0"
      },
      "execution_count": 10,
      "outputs": [
        {
          "output_type": "stream",
          "name": "stdout",
          "text": [
            "19, 6의 합은 25입니다.\n"
          ]
        }
      ]
    },
    {
      "cell_type": "code",
      "source": [
        "a = add(19, 6)"
      ],
      "metadata": {
        "colab": {
          "base_uri": "https://localhost:8080/"
        },
        "id": "TCUnKr3ABwrB",
        "outputId": "1f802942-59a8-4cc9-9f8f-e1e65f9e05f4"
      },
      "execution_count": 11,
      "outputs": [
        {
          "output_type": "stream",
          "name": "stdout",
          "text": [
            "19, 6의 합은 25입니다.\n"
          ]
        }
      ]
    },
    {
      "cell_type": "code",
      "source": [
        "print(a)"
      ],
      "metadata": {
        "colab": {
          "base_uri": "https://localhost:8080/"
        },
        "id": "co9z0VkXCDz5",
        "outputId": "5aa488e5-578b-48c5-b8d1-e1272c0e72d5"
      },
      "execution_count": 12,
      "outputs": [
        {
          "output_type": "stream",
          "name": "stdout",
          "text": [
            "None\n"
          ]
        }
      ]
    },
    {
      "cell_type": "code",
      "source": [
        "def add(a, b):\n",
        "  return a+b"
      ],
      "metadata": {
        "id": "3LAyRh5UCG3f"
      },
      "execution_count": 13,
      "outputs": []
    },
    {
      "cell_type": "code",
      "source": [
        "result = add(a=5, b=9)\n",
        "print(result)"
      ],
      "metadata": {
        "colab": {
          "base_uri": "https://localhost:8080/"
        },
        "id": "b1F2fO1VCar5",
        "outputId": "a45e47f4-1b61-4d42-d1dd-fe43fac1d650"
      },
      "execution_count": 15,
      "outputs": [
        {
          "output_type": "stream",
          "name": "stdout",
          "text": [
            "14\n"
          ]
        }
      ]
    },
    {
      "cell_type": "code",
      "source": [
        "result = add(b=10, a=4)\n",
        "print(result)"
      ],
      "metadata": {
        "colab": {
          "base_uri": "https://localhost:8080/"
        },
        "id": "yS0CegjqCfeh",
        "outputId": "330124f8-cb1d-4511-e75f-f1731b32417a"
      },
      "execution_count": 17,
      "outputs": [
        {
          "output_type": "stream",
          "name": "stdout",
          "text": [
            "14\n"
          ]
        }
      ]
    },
    {
      "cell_type": "markdown",
      "source": [
        "여러개의 입력값을 받는 함수 만들기 (  def 함수이름 (*매개변수))"
      ],
      "metadata": {
        "id": "3Cvj1DhfC8Fh"
      }
    },
    {
      "cell_type": "code",
      "source": [
        "def add_many(*args):  # *arg처럼 매개변수 앞에 *를 붙이면 입력값을 전부 모아서 튜플로  만들어 준다. args는 무작위로 만든 변수임 \n",
        "  result = 0\n",
        "  for i in args:\n",
        "    result = result + i  #*arg에 입력받은 모든 값을 더한다\n",
        "  return result"
      ],
      "metadata": {
        "id": "qt3L0n5bCsBB"
      },
      "execution_count": 18,
      "outputs": []
    },
    {
      "cell_type": "code",
      "source": [
        "result = add_many(1,2,3)\n",
        "print(result)"
      ],
      "metadata": {
        "colab": {
          "base_uri": "https://localhost:8080/"
        },
        "id": "ud2L08tTDWAK",
        "outputId": "d6dac283-8814-4bd9-eca6-89cbf8effcb6"
      },
      "execution_count": 19,
      "outputs": [
        {
          "output_type": "stream",
          "name": "stdout",
          "text": [
            "6\n"
          ]
        }
      ]
    },
    {
      "cell_type": "code",
      "source": [
        "result = add_many(1,2,3,4,5,6,7,8,9,10)\n",
        "print(result)"
      ],
      "metadata": {
        "colab": {
          "base_uri": "https://localhost:8080/"
        },
        "id": "gmfsvBU1DxLC",
        "outputId": "e7eb1949-c46e-45ff-ae65-31d7a686721b"
      },
      "execution_count": 20,
      "outputs": [
        {
          "output_type": "stream",
          "name": "stdout",
          "text": [
            "55\n"
          ]
        }
      ]
    },
    {
      "cell_type": "markdown",
      "source": [
        "여러개의 입력을 처리할때 def add_many(*args)처럼 함수의 매개변수로 *args만 사용할 수 있는 것은 아니다\n"
      ],
      "metadata": {
        "id": "SsZuryNXEJ4A"
      }
    },
    {
      "cell_type": "code",
      "source": [
        "def add_mul(choice, *args):\n",
        "  if choice == \"add\":   # 매개변수 choice에 'add'를 입력받았을 때\n",
        "     result = 0\n",
        "     for i in args:\n",
        "       result = result + i  # args에 입력받은 모든 값을 더한다\n",
        "  elif choice == \"mul\":  #매개변수 choice에 'mul'을 입력받았을 때\n",
        "     result = 1\n",
        "     for i in args:\n",
        "       result = result * i  # args에 입력받은 모든 값을 곱한다\n",
        "  return result"
      ],
      "metadata": {
        "id": "feHV-IgsEYx1"
      },
      "execution_count": 21,
      "outputs": []
    },
    {
      "cell_type": "code",
      "source": [
        "resutl = add_mul(\"add\", 1,2,3,4,5)\n",
        "print(result)"
      ],
      "metadata": {
        "colab": {
          "base_uri": "https://localhost:8080/"
        },
        "id": "VeWw0HuUD6F4",
        "outputId": "3d287a94-c75e-4c40-bebc-759a97d1c2c7"
      },
      "execution_count": 24,
      "outputs": [
        {
          "output_type": "stream",
          "name": "stdout",
          "text": [
            "55\n"
          ]
        }
      ]
    },
    {
      "cell_type": "code",
      "source": [
        ""
      ],
      "metadata": {
        "id": "M7Z6kC6bFpaJ"
      },
      "execution_count": null,
      "outputs": []
    }
  ]
}