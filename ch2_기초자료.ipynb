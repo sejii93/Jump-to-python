{
  "nbformat": 4,
  "nbformat_minor": 0,
  "metadata": {
    "colab": {
      "name": "ch2.기초자료",
      "provenance": [],
      "authorship_tag": "ABX9TyMtJ3W+x29F94m8V6ES087s",
      "include_colab_link": true
    },
    "kernelspec": {
      "name": "python3",
      "display_name": "Python 3"
    },
    "language_info": {
      "name": "python"
    }
  },
  "cells": [
    {
      "cell_type": "markdown",
      "metadata": {
        "id": "view-in-github",
        "colab_type": "text"
      },
      "source": [
        "<a href=\"https://colab.research.google.com/github/sejii93/Jump-to-python/blob/main/ch2_%EA%B8%B0%EC%B4%88%EC%9E%90%EB%A3%8C.ipynb\" target=\"_parent\"><img src=\"https://colab.research.google.com/assets/colab-badge.svg\" alt=\"Open In Colab\"/></a>"
      ]
    },
    {
      "cell_type": "markdown",
      "source": [
        "데이터 유형\n",
        "\n",
        "숫자형: 정수(integer), 실수(float)\n",
        "\n",
        "문자형: string\n",
        "\n",
        "리스트: list [1,2,3,4,5], [a,b,c,d]\n",
        "\n",
        "튜플: tuple (1,2,3,4,5) - 리스트와 비슷하나 내용을 추가,삭제할 수 없고 \n",
        "실수변경이 불가 \n",
        "\n",
        "집합: set(\"hellow\"), set([1,2,3]) - 집합의 특징은 중복이 허용되지 않음\n",
        "\n",
        "사전: dictionary  {'hellow':'world', 'python':'programming'} - key:value로 구분\n",
        "\n",
        "논리/불린: boolean   true or false\n",
        "\n",
        "나누기:  % : 나눈 후 나머지 돌려줌,  / : 나눗셈 결과, //: 나눈 몫(정수값)을 반환"
      ],
      "metadata": {
        "id": "C8N0ShxH08s7"
      }
    },
    {
      "cell_type": "markdown",
      "source": [
        ""
      ],
      "metadata": {
        "id": "wYLk3pa34dya"
      }
    },
    {
      "cell_type": "markdown",
      "source": [
        "문자열 이스케이프 코드\n",
        "1. /n: 문자열 안에서 줄을 바끌때\n",
        "2. /t: 문자열 사이에 탭 간격을 줄 때 사용\n",
        "3. //: 문자 /를 그대로 표현할때\n",
        "4. /': 작은 따옴표(')를 그대로 표현할때\n",
        "5. /\": 큰 따옴표(\")를 그대로 표현할때\n",
        "6. /r: 캐리지 리턴(줄 바꿈 문자, 현재 커서를 가장 앞으로 이동)\n",
        "7. /f: 폼 피드(줄 바꿈 문자, 현재 커서를 다음 줄로 이동)\n",
        "8. /a: 벨 소리(출력할 때 pc스피커에 '삑' 소리가 난다)\n",
        "9. /b: 백스페이스\n",
        "10. /000: 널 문자"
      ],
      "metadata": {
        "id": "_VTQE5Rh3b1D"
      }
    },
    {
      "cell_type": "markdown",
      "source": [
        "문자열 연산\n",
        "1. '+' : 문자열 더해서 연결\n",
        "2. '*' : 문자열 곱하기\n",
        "3. len(a) : 문자열 길이 구하기"
      ],
      "metadata": {
        "id": "EI56YwVy4hV9"
      }
    },
    {
      "cell_type": "code",
      "execution_count": 1,
      "metadata": {
        "colab": {
          "base_uri": "https://localhost:8080/"
        },
        "id": "zuGZRXEE0HGv",
        "outputId": "0936351b-b595-4474-a64a-6ac8dac876a4"
      },
      "outputs": [
        {
          "output_type": "stream",
          "name": "stdout",
          "text": [
            "==================================================\n",
            "My Program\n",
            "==================================================\n"
          ]
        }
      ],
      "source": [
        "# multistring\n",
        "\n",
        "print(\"=\" * 50)\n",
        "print(\"My Program\")\n",
        "print(\"=\" * 50)"
      ]
    },
    {
      "cell_type": "code",
      "source": [
        "#문자열 인덱싱\n",
        "a = \"Life is short, You need Python\"\n",
        "print(a[0])\n",
        "print(a[-0])\n",
        "print(a[:])\n",
        "print(a[1:5])\n",
        "print(a[:6])"
      ],
      "metadata": {
        "colab": {
          "base_uri": "https://localhost:8080/"
        },
        "id": "ryaaARkM2ElP",
        "outputId": "15b291c0-bbb3-4ca2-ca59-46f0c0d45360"
      },
      "execution_count": 5,
      "outputs": [
        {
          "output_type": "stream",
          "name": "stdout",
          "text": [
            "L\n",
            "L\n",
            "Life is short, You need Python\n",
            "ife \n",
            "Life i\n"
          ]
        }
      ]
    },
    {
      "cell_type": "code",
      "source": [
        "#문자열 슬라이싱   a[0:3] - 0 <= a < 3\n",
        "a = \"Life is too short, You need Python\"\n",
        "print(a[0:3])\n",
        "print(a[-1])\n",
        "print(a[19:-7])\n",
        "print(a[-3:-1])   # -3인 h는 포함, -1인 n은 불포함"
      ],
      "metadata": {
        "colab": {
          "base_uri": "https://localhost:8080/"
        },
        "id": "4-nE8yxJ5siS",
        "outputId": "338a9757-c4f5-450c-e3e8-7870d074e833"
      },
      "execution_count": 14,
      "outputs": [
        {
          "output_type": "stream",
          "name": "stdout",
          "text": [
            "Lif\n",
            "n\n",
            "You need\n",
            "ho\n"
          ]
        }
      ]
    },
    {
      "cell_type": "code",
      "source": [
        "#슬라이싱 연습\n",
        "a = '20220320Rainy'\n",
        "year = int(a[:4])\n",
        "month = int(a[4:6])\n",
        "date = int(a[6:8])\n",
        "weather = a[8:]\n",
        "print(\"오늘은 %d년 %d월 %d일이며, 날씨는 %s로 예보되어 있습니다\" %(year, month, date, weather))"
      ],
      "metadata": {
        "colab": {
          "base_uri": "https://localhost:8080/"
        },
        "id": "GUZUegef6ex8",
        "outputId": "687ee3f2-0597-4bb0-9b2a-4bf35ca13435"
      },
      "execution_count": 20,
      "outputs": [
        {
          "output_type": "stream",
          "name": "stdout",
          "text": [
            "오늘은 2022년 3월 20일이며, 날씨는 Rainy로 예보되어 있습니다\n"
          ]
        }
      ]
    },
    {
      "cell_type": "code",
      "source": [
        "#슬라이싱 연습\n",
        "a = '20220320Rainy'\n",
        "year = (a[:4])\n",
        "month = (a[4:6])\n",
        "date = (a[6:8])\n",
        "weather = a[8:]\n",
        "print(\"오늘은 %s년 %s월 %s일이며, 날씨는 %s로 예보되어 있습니다\" %(year, month, date, weather))"
      ],
      "metadata": {
        "colab": {
          "base_uri": "https://localhost:8080/"
        },
        "id": "xdBn1R-q8UB7",
        "outputId": "2cd0fdb2-c25f-4738-e03d-001ec92135e4"
      },
      "execution_count": 21,
      "outputs": [
        {
          "output_type": "stream",
          "name": "stdout",
          "text": [
            "오늘은 2022년 03월 20일이며, 날씨는 Rainy로 예보되어 있습니다\n"
          ]
        }
      ]
    },
    {
      "cell_type": "markdown",
      "source": [
        "문자열 포맷코드\n",
        "\n",
        "1. %s : 문자열(string)  : 아래의 어떤 형태의 값을 대입하도 문자열로 변환하여 출력한다.\n",
        "2. %c : 문자1개(Character\n",
        "3. %d : 정수(integer)\n",
        "4. %f : 부동소수 (Floating-point)\n",
        "5. %o : 8진수\n",
        "6. %x : 16진수\n",
        "7. %% : 문자 % 자체"
      ],
      "metadata": {
        "id": "McHuYciQAk8H"
      }
    },
    {
      "cell_type": "code",
      "source": [
        "print(\"I have %s apples\" %3)"
      ],
      "metadata": {
        "colab": {
          "base_uri": "https://localhost:8080/"
        },
        "id": "JzvBCF7aAdpK",
        "outputId": "62cb5dda-738e-4523-ac64-1b099dbeccd6"
      },
      "execution_count": 22,
      "outputs": [
        {
          "output_type": "stream",
          "name": "stdout",
          "text": [
            "I have 3 apples\n"
          ]
        }
      ]
    },
    {
      "cell_type": "code",
      "source": [
        "print(\"rate is %s\" %3.234)"
      ],
      "metadata": {
        "colab": {
          "base_uri": "https://localhost:8080/"
        },
        "id": "7X4KuWJxBngK",
        "outputId": "5a0a06bf-9d0a-4da7-fd23-82fbeb3c781f"
      },
      "execution_count": 23,
      "outputs": [
        {
          "output_type": "stream",
          "name": "stdout",
          "text": [
            "rate is 3.234\n"
          ]
        }
      ]
    },
    {
      "cell_type": "code",
      "source": [
        "print(\"Error rate is %d%%\" %98.5)"
      ],
      "metadata": {
        "colab": {
          "base_uri": "https://localhost:8080/"
        },
        "id": "nOh24EjrBwJd",
        "outputId": "bf7b82bd-99ce-45c4-a480-febd0eac7d4a"
      },
      "execution_count": 24,
      "outputs": [
        {
          "output_type": "stream",
          "name": "stdout",
          "text": [
            "Error rate is 98%\n"
          ]
        }
      ]
    },
    {
      "cell_type": "code",
      "source": [
        "# 포맷코드와 숫자 함께 사용\n",
        "print(\"%10s\" % \"hi\")   # hi가 오늘쪽으로 정렬, 전체길이가 10개인 문자열 공간에서 오른쪽으로 정열하고 앞의 나머지는 공백으로\n",
        "print(\"%-10s jane\" % \"hi \") #hi를 포함한 10개 문자열(hi는 왼쪽 정렬) + jane"
      ],
      "metadata": {
        "colab": {
          "base_uri": "https://localhost:8080/"
        },
        "id": "Yii4xtL-B87N",
        "outputId": "55d0a30d-4a07-4e64-b490-b566528ae451"
      },
      "execution_count": 30,
      "outputs": [
        {
          "output_type": "stream",
          "name": "stdout",
          "text": [
            "        hi\n",
            "hi         jane\n"
          ]
        }
      ]
    },
    {
      "cell_type": "code",
      "source": [
        "print(\"%.4f\" %3.42134234)  # 0.4는 소숫점 네자리까지 나타냄   #%0.4,f 로도 가능\n",
        "print(\"%10.4f\" % 3.42134234) # 전체 10개의 문자열 공간에서 오른쪽 정렬하고(숫자앞에는 공백 4개), 소수점 4자리까지 표시"
      ],
      "metadata": {
        "colab": {
          "base_uri": "https://localhost:8080/"
        },
        "id": "v9Gdy1UMCSIs",
        "outputId": "e1c0f167-f1c9-450c-9bd1-9db49eb2e421"
      },
      "execution_count": 34,
      "outputs": [
        {
          "output_type": "stream",
          "name": "stdout",
          "text": [
            "3.4213\n",
            "    3.4213\n"
          ]
        }
      ]
    },
    {
      "cell_type": "code",
      "source": [
        "# format 함수를 사용한 포매팅\n",
        "\n",
        "print(\"I eat {0} apples\".format(3))  #{0}인 부분이 format의 3으로 변경\n",
        "print(\"I eat {0} apples\".format(\"five\"))"
      ],
      "metadata": {
        "colab": {
          "base_uri": "https://localhost:8080/"
        },
        "id": "8npjXfkIDWMs",
        "outputId": "bd3070be-c58d-4744-d7cb-7870ed09385e"
      },
      "execution_count": 38,
      "outputs": [
        {
          "output_type": "stream",
          "name": "stdout",
          "text": [
            "I eat 3 apples\n",
            "I eat five apples\n"
          ]
        }
      ]
    },
    {
      "cell_type": "code",
      "source": [
        "number = 5\n",
        "print(\"I eat {0} apples\".format(number))"
      ],
      "metadata": {
        "colab": {
          "base_uri": "https://localhost:8080/"
        },
        "id": "-htfqqMFEbK3",
        "outputId": "7d071054-ce6a-45c6-c5f1-0b054a32e16a"
      },
      "execution_count": 39,
      "outputs": [
        {
          "output_type": "stream",
          "name": "stdout",
          "text": [
            "I eat 5 apples\n"
          ]
        }
      ]
    },
    {
      "cell_type": "code",
      "source": [
        "number = 10\n",
        "day = \"three\"\n",
        "print(\"I ate {0} apples. so I was sick for {1} days.\".format(number,day))"
      ],
      "metadata": {
        "colab": {
          "base_uri": "https://localhost:8080/"
        },
        "id": "t5nUuoIqE-D8",
        "outputId": "3c39be91-bf27-4a01-b761-1d2332317996"
      },
      "execution_count": 40,
      "outputs": [
        {
          "output_type": "stream",
          "name": "stdout",
          "text": [
            "I ate 10 apples. so I was sick for three days.\n"
          ]
        }
      ]
    },
    {
      "cell_type": "code",
      "source": [
        "print(\"I ate {number} apples. so I was sick for {day} days.\".format(number=15,day=5))"
      ],
      "metadata": {
        "colab": {
          "base_uri": "https://localhost:8080/"
        },
        "id": "yxGpGCebFZXE",
        "outputId": "e0603067-548e-4124-ebaf-d47e0a0b2280"
      },
      "execution_count": 41,
      "outputs": [
        {
          "output_type": "stream",
          "name": "stdout",
          "text": [
            "I ate 15 apples. so I was sick for 5 days.\n"
          ]
        }
      ]
    },
    {
      "cell_type": "code",
      "source": [
        "print(\"I ate {0} apples, so I was sick for {day} days.\".format(2,day=2))"
      ],
      "metadata": {
        "colab": {
          "base_uri": "https://localhost:8080/"
        },
        "id": "fzaH33dlGBNB",
        "outputId": "66bd0aa3-ba45-49fb-ae45-905c055bd096"
      },
      "execution_count": 46,
      "outputs": [
        {
          "output_type": "stream",
          "name": "stdout",
          "text": [
            "I ate 2 apples, so I was sick for 2 days.\n"
          ]
        }
      ]
    },
    {
      "cell_type": "code",
      "source": [
        "#왼쪽, 오른쪽 정렬, 가운데 정렬\n",
        "print(\"{0:<10}\".format(\"hi\"))\n",
        "print(\"{0:>10}\".format(\"hi\"))\n",
        "print(\"{0:^10}\".format(\"hi\"))"
      ],
      "metadata": {
        "colab": {
          "base_uri": "https://localhost:8080/"
        },
        "id": "ITLrjSt4GsJE",
        "outputId": "5eabf2dd-e121-4495-f039-5d3308ce0cb7"
      },
      "execution_count": 50,
      "outputs": [
        {
          "output_type": "stream",
          "name": "stdout",
          "text": [
            "hi        \n",
            "        hi\n",
            "    hi    \n"
          ]
        }
      ]
    },
    {
      "cell_type": "code",
      "source": [
        "#공백채우기\n",
        "print(\"{0:=^10}\".format(\"hi\"))  # '='는 채워지는 문자, '^'는 가운데 정렬, 10은 10개 문자열\n",
        "print(\"{0:!<10}\".format(\"hi\"))  # '!'는 채워지는 문자, \"<\"는 좌측정렬, 10은 10개 문자열"
      ],
      "metadata": {
        "colab": {
          "base_uri": "https://localhost:8080/"
        },
        "id": "YVl_xXCVHAMM",
        "outputId": "1cb1c2d8-e08a-478f-eac9-d41432f390ec"
      },
      "execution_count": 54,
      "outputs": [
        {
          "output_type": "stream",
          "name": "stdout",
          "text": [
            "====hi====\n",
            "hi!!!!!!!!\n"
          ]
        }
      ]
    },
    {
      "cell_type": "code",
      "source": [
        "y = 3.42134234\n",
        "print(\"{0:0.2f}\".format(y))\n",
        "print(\"{0:20.2f}\".format(y))  #20개짜리 문자열"
      ],
      "metadata": {
        "colab": {
          "base_uri": "https://localhost:8080/"
        },
        "id": "3YK78kPWHkks",
        "outputId": "73a53e28-5235-402f-c161-c3a33073d92f"
      },
      "execution_count": 57,
      "outputs": [
        {
          "output_type": "stream",
          "name": "stdout",
          "text": [
            "3.42\n",
            "                3.42\n"
          ]
        }
      ]
    },
    {
      "cell_type": "code",
      "source": [
        "print(\"{{ and }}\".format())"
      ],
      "metadata": {
        "colab": {
          "base_uri": "https://localhost:8080/"
        },
        "id": "0iAsbb6nIZIl",
        "outputId": "ec714248-cc99-4413-a5ff-961bf0aaf44b"
      },
      "execution_count": 58,
      "outputs": [
        {
          "output_type": "stream",
          "name": "stdout",
          "text": [
            "{ and }\n"
          ]
        }
      ]
    },
    {
      "cell_type": "code",
      "source": [
        "#f문자열 포매팅 - 파이썬 3.6버전부터 사용가능\n",
        "name = '홍길동'\n",
        "age = 30\n",
        "print(f'나의 이름은 {name}입니다. 나이는 {age}살입니다.')\n",
        "print(f'나의 이름은 {name}입니다. 나이는 {age}살이고, 내년에는 {age+1}살이 됩니다.')"
      ],
      "metadata": {
        "colab": {
          "base_uri": "https://localhost:8080/"
        },
        "id": "vH_zSuZuI7zC",
        "outputId": "4237c9fd-63f0-4902-eb52-4cd0564b0c0f"
      },
      "execution_count": 60,
      "outputs": [
        {
          "output_type": "stream",
          "name": "stdout",
          "text": [
            "나의 이름은 홍길동입니다. 나이는 30살입니다.\n",
            "나의 이름은 홍길동입니다. 나이는 30살이고, 내년에는 31살이 됩니다.\n"
          ]
        }
      ]
    },
    {
      "cell_type": "code",
      "source": [
        "d = {'name': '홍길동', 'age': 30}   #딕셔너리\n",
        "print(f'나의 이름은 {d[\"name\"]}입니다. 나이는 {d[\"age\"]}입니다.')"
      ],
      "metadata": {
        "colab": {
          "base_uri": "https://localhost:8080/"
        },
        "id": "jF1sF90bJLDc",
        "outputId": "e530f2e5-0b08-4f9c-a273-f9e15bf0f36e"
      },
      "execution_count": 62,
      "outputs": [
        {
          "output_type": "stream",
          "name": "stdout",
          "text": [
            "나의 이름은 홍길동입니다. 나이는 30입니다.\n"
          ]
        }
      ]
    },
    {
      "cell_type": "code",
      "source": [
        "#정렬, 공백채우기\n",
        "print(f'{\"hi\":<10})'"
      ],
      "metadata": {
        "id": "OnJs5KIAKDGc"
      },
      "execution_count": null,
      "outputs": []
    },
    {
      "cell_type": "code",
      "source": [
        ""
      ],
      "metadata": {
        "id": "-qX3-NBGKaAt"
      },
      "execution_count": null,
      "outputs": []
    }
  ]
}