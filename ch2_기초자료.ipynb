{
  "nbformat": 4,
  "nbformat_minor": 0,
  "metadata": {
    "colab": {
      "name": "ch2.기초자료",
      "provenance": [],
      "authorship_tag": "ABX9TyMW39tjbeUZL28WwhvGE1+p",
      "include_colab_link": true
    },
    "kernelspec": {
      "name": "python3",
      "display_name": "Python 3"
    },
    "language_info": {
      "name": "python"
    }
  },
  "cells": [
    {
      "cell_type": "markdown",
      "metadata": {
        "id": "view-in-github",
        "colab_type": "text"
      },
      "source": [
        "<a href=\"https://colab.research.google.com/github/sejii93/Jump-to-python/blob/main/ch2_%EA%B8%B0%EC%B4%88%EC%9E%90%EB%A3%8C.ipynb\" target=\"_parent\"><img src=\"https://colab.research.google.com/assets/colab-badge.svg\" alt=\"Open In Colab\"/></a>"
      ]
    },
    {
      "cell_type": "markdown",
      "source": [
        "데이터 유형\n",
        "\n",
        "숫자형: 정수(integer), 실수(float)\n",
        "\n",
        "문자형: string\n",
        "\n",
        "리스트: list [1,2,3,4,5], [a,b,c,d]\n",
        "\n",
        "튜플: tuple (1,2,3,4,5) - 리스트와 비슷하나 내용을 추가,삭제할 수 없고 \n",
        "실수변경이 불가 \n",
        "\n",
        "집합: set(\"hellow\"), set([1,2,3]) - 집합의 특징은 중복이 허용되지 않음\n",
        "\n",
        "사전: dictionary  {'hellow':'world', 'python':'programming'} - key:value로 구분\n",
        "\n",
        "논리/불린: boolean   true or false\n",
        "\n",
        "나누기:  % : 나눈 후 나머지 돌려줌,  / : 나눗셈 결과, //: 나눈 몫(정수값)을 반환"
      ],
      "metadata": {
        "id": "C8N0ShxH08s7"
      }
    },
    {
      "cell_type": "markdown",
      "source": [
        ""
      ],
      "metadata": {
        "id": "wYLk3pa34dya"
      }
    },
    {
      "cell_type": "markdown",
      "source": [
        "문자열 이스케이프 코드\n",
        "1. /n: 문자열 안에서 줄을 바끌때\n",
        "2. /t: 문자열 사이에 탭 간격을 줄 때 사용\n",
        "3. //: 문자 /를 그대로 표현할때\n",
        "4. /': 작은 따옴표(')를 그대로 표현할때\n",
        "5. /\": 큰 따옴표(\")를 그대로 표현할때\n",
        "6. /r: 캐리지 리턴(줄 바꿈 문자, 현재 커서를 가장 앞으로 이동)\n",
        "7. /f: 폼 피드(줄 바꿈 문자, 현재 커서를 다음 줄로 이동)\n",
        "8. /a: 벨 소리(출력할 때 pc스피커에 '삑' 소리가 난다)\n",
        "9. /b: 백스페이스\n",
        "10. /000: 널 문자"
      ],
      "metadata": {
        "id": "_VTQE5Rh3b1D"
      }
    },
    {
      "cell_type": "markdown",
      "source": [
        "문자열 연산\n",
        "1. '+' : 문자열 더해서 연결\n",
        "2. '*' : 문자열 곱하기\n",
        "3. len(a) : 문자열 길이 구하기"
      ],
      "metadata": {
        "id": "EI56YwVy4hV9"
      }
    },
    {
      "cell_type": "code",
      "execution_count": 1,
      "metadata": {
        "colab": {
          "base_uri": "https://localhost:8080/"
        },
        "id": "zuGZRXEE0HGv",
        "outputId": "0936351b-b595-4474-a64a-6ac8dac876a4"
      },
      "outputs": [
        {
          "output_type": "stream",
          "name": "stdout",
          "text": [
            "==================================================\n",
            "My Program\n",
            "==================================================\n"
          ]
        }
      ],
      "source": [
        "# multistring\n",
        "\n",
        "print(\"=\" * 50)\n",
        "print(\"My Program\")\n",
        "print(\"=\" * 50)"
      ]
    },
    {
      "cell_type": "code",
      "source": [
        "#문자열 인덱싱\n",
        "a = \"Life is short, You need Python\"\n",
        "print(a[0])\n",
        "print(a[-0])\n",
        "print(a[:])\n",
        "print(a[1:5])\n",
        "print(a[:6])"
      ],
      "metadata": {
        "colab": {
          "base_uri": "https://localhost:8080/"
        },
        "id": "ryaaARkM2ElP",
        "outputId": "15b291c0-bbb3-4ca2-ca59-46f0c0d45360"
      },
      "execution_count": 5,
      "outputs": [
        {
          "output_type": "stream",
          "name": "stdout",
          "text": [
            "L\n",
            "L\n",
            "Life is short, You need Python\n",
            "ife \n",
            "Life i\n"
          ]
        }
      ]
    },
    {
      "cell_type": "code",
      "source": [
        "#문자열 슬라이싱   a[0:3] - 0 <= a < 3\n",
        "a = \"Life is too short, You need Python\"\n",
        "print(a[0:3])\n",
        "print(a[-1])\n",
        "print(a[19:-7])\n",
        "print(a[-3:-1])   # -3인 h는 포함, -1인 n은 불포함"
      ],
      "metadata": {
        "colab": {
          "base_uri": "https://localhost:8080/"
        },
        "id": "4-nE8yxJ5siS",
        "outputId": "338a9757-c4f5-450c-e3e8-7870d074e833"
      },
      "execution_count": 14,
      "outputs": [
        {
          "output_type": "stream",
          "name": "stdout",
          "text": [
            "Lif\n",
            "n\n",
            "You need\n",
            "ho\n"
          ]
        }
      ]
    },
    {
      "cell_type": "code",
      "source": [
        "#슬라이싱 연습\n",
        "a = '20220320Rainy'\n",
        "year = a[:4]\n",
        "month = a[4:6]\n",
        "date = a[6:8]\n",
        "weather = a[8:]\n",
        "print(오늘은 %d년 %월 %일이며, 날씨는 %s로 예보되어 있습니다\" %(year, month, date, weather))"
      ],
      "metadata": {
        "colab": {
          "base_uri": "https://localhost:8080/",
          "height": 139
        },
        "id": "GUZUegef6ex8",
        "outputId": "939d401c-f1ae-4030-aa1d-c79e4ec6975f"
      },
      "execution_count": 17,
      "outputs": [
        {
          "output_type": "error",
          "ename": "SyntaxError",
          "evalue": "ignored",
          "traceback": [
            "\u001b[0;36m  File \u001b[0;32m\"<ipython-input-17-84619312ef47>\"\u001b[0;36m, line \u001b[0;32m7\u001b[0m\n\u001b[0;31m    print(오늘은 %d년 %월 %일이며, 날씨는 %s로 예보되어 있습니다\" %(year, month, date, weather))\u001b[0m\n\u001b[0m                                      ^\u001b[0m\n\u001b[0;31mSyntaxError\u001b[0m\u001b[0;31m:\u001b[0m invalid syntax\n"
          ]
        }
      ]
    },
    {
      "cell_type": "code",
      "source": [
        ""
      ],
      "metadata": {
        "id": "xdBn1R-q8UB7"
      },
      "execution_count": null,
      "outputs": []
    }
  ]
}