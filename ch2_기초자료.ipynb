{
  "nbformat": 4,
  "nbformat_minor": 0,
  "metadata": {
    "colab": {
      "name": "ch2.기초자료",
      "provenance": [],
      "authorship_tag": "ABX9TyOdx0mHNbyXKctfU/JlcQN8",
      "include_colab_link": true
    },
    "kernelspec": {
      "name": "python3",
      "display_name": "Python 3"
    },
    "language_info": {
      "name": "python"
    }
  },
  "cells": [
    {
      "cell_type": "markdown",
      "metadata": {
        "id": "view-in-github",
        "colab_type": "text"
      },
      "source": [
        "<a href=\"https://colab.research.google.com/github/sejii93/Jump-to-python/blob/main/ch2_%EA%B8%B0%EC%B4%88%EC%9E%90%EB%A3%8C.ipynb\" target=\"_parent\"><img src=\"https://colab.research.google.com/assets/colab-badge.svg\" alt=\"Open In Colab\"/></a>"
      ]
    },
    {
      "cell_type": "markdown",
      "source": [
        "데이터 유형\n",
        "\n",
        "숫자형: 정수(integer), 실수(float)\n",
        "\n",
        "문자형: string\n",
        "\n",
        "리스트: list [1,2,3,4,5], [a,b,c,d]\n",
        "\n",
        "튜플: tuple (1,2,3,4,5) - 리스트와 비슷하나 내용을 추가,삭제할 수 없고 \n",
        "실수변경이 불가 \n",
        "\n",
        "집합: set(\"hellow\"), set([1,2,3]) - 집합의 특징은 중복이 허용되지 않음\n",
        "\n",
        "사전: dictionary  {'hellow':'world', 'python':'programming'} - key:value로 구분\n",
        "\n",
        "논리/불린: boolean   true or false\n",
        "\n",
        "나누기:  % : 나눈 후 나머지 돌려줌,  / : 나눗셈 결과, //: 나눈 몫(정수값)을 반환"
      ],
      "metadata": {
        "id": "C8N0ShxH08s7"
      }
    },
    {
      "cell_type": "markdown",
      "source": [
        ""
      ],
      "metadata": {
        "id": "wYLk3pa34dya"
      }
    },
    {
      "cell_type": "markdown",
      "source": [
        "문자열 이스케이프 코드\n",
        "1. /n: 문자열 안에서 줄을 바끌때\n",
        "2. /t: 문자열 사이에 탭 간격을 줄 때 사용\n",
        "3. //: 문자 /를 그대로 표현할때\n",
        "4. /': 작은 따옴표(')를 그대로 표현할때\n",
        "5. /\": 큰 따옴표(\")를 그대로 표현할때\n",
        "6. /r: 캐리지 리턴(줄 바꿈 문자, 현재 커서를 가장 앞으로 이동)\n",
        "7. /f: 폼 피드(줄 바꿈 문자, 현재 커서를 다음 줄로 이동)\n",
        "8. /a: 벨 소리(출력할 때 pc스피커에 '삑' 소리가 난다)\n",
        "9. /b: 백스페이스\n",
        "10. /000: 널 문자"
      ],
      "metadata": {
        "id": "_VTQE5Rh3b1D"
      }
    },
    {
      "cell_type": "markdown",
      "source": [
        "문자열 연산\n",
        "1. '+' : 문자열 더해서 연결\n",
        "2. '*' : 문자열 곱하기\n",
        "3. len(a) : 문자열 길이 구하기"
      ],
      "metadata": {
        "id": "EI56YwVy4hV9"
      }
    },
    {
      "cell_type": "code",
      "execution_count": 1,
      "metadata": {
        "colab": {
          "base_uri": "https://localhost:8080/"
        },
        "id": "zuGZRXEE0HGv",
        "outputId": "0936351b-b595-4474-a64a-6ac8dac876a4"
      },
      "outputs": [
        {
          "output_type": "stream",
          "name": "stdout",
          "text": [
            "==================================================\n",
            "My Program\n",
            "==================================================\n"
          ]
        }
      ],
      "source": [
        "# multistring\n",
        "\n",
        "print(\"=\" * 50)\n",
        "print(\"My Program\")\n",
        "print(\"=\" * 50)"
      ]
    },
    {
      "cell_type": "code",
      "source": [
        "#문자열 인덱싱\n",
        "a = \"Life is short, You need Python\"\n",
        "print(a[0])\n",
        "print(a[-0])\n",
        "print(a[:])\n",
        "print(a[1:5])\n",
        "print(a[:6])"
      ],
      "metadata": {
        "colab": {
          "base_uri": "https://localhost:8080/"
        },
        "id": "ryaaARkM2ElP",
        "outputId": "15b291c0-bbb3-4ca2-ca59-46f0c0d45360"
      },
      "execution_count": 5,
      "outputs": [
        {
          "output_type": "stream",
          "name": "stdout",
          "text": [
            "L\n",
            "L\n",
            "Life is short, You need Python\n",
            "ife \n",
            "Life i\n"
          ]
        }
      ]
    },
    {
      "cell_type": "code",
      "source": [
        "#문자열 슬라이싱   a[0:3] - 0 <= a < 3\n",
        "a = \"Life is too short, You need Python\"\n",
        "print(a[0:3])\n",
        "print(a[-1])\n",
        "print(a[19:-7])\n",
        "print(a[-3:-1])   # -3인 h는 포함, -1인 n은 불포함"
      ],
      "metadata": {
        "colab": {
          "base_uri": "https://localhost:8080/"
        },
        "id": "4-nE8yxJ5siS",
        "outputId": "338a9757-c4f5-450c-e3e8-7870d074e833"
      },
      "execution_count": 14,
      "outputs": [
        {
          "output_type": "stream",
          "name": "stdout",
          "text": [
            "Lif\n",
            "n\n",
            "You need\n",
            "ho\n"
          ]
        }
      ]
    },
    {
      "cell_type": "code",
      "source": [
        "#슬라이싱 연습\n",
        "a = '20220320Rainy'\n",
        "year = int(a[:4])\n",
        "month = int(a[4:6])\n",
        "date = int(a[6:8])\n",
        "weather = a[8:]\n",
        "print(\"오늘은 %d년 %d월 %d일이며, 날씨는 %s로 예보되어 있습니다\" %(year, month, date, weather))"
      ],
      "metadata": {
        "colab": {
          "base_uri": "https://localhost:8080/"
        },
        "id": "GUZUegef6ex8",
        "outputId": "687ee3f2-0597-4bb0-9b2a-4bf35ca13435"
      },
      "execution_count": 20,
      "outputs": [
        {
          "output_type": "stream",
          "name": "stdout",
          "text": [
            "오늘은 2022년 3월 20일이며, 날씨는 Rainy로 예보되어 있습니다\n"
          ]
        }
      ]
    },
    {
      "cell_type": "code",
      "source": [
        "#슬라이싱 연습\n",
        "a = '20220320Rainy'\n",
        "year = (a[:4])\n",
        "month = (a[4:6])\n",
        "date = (a[6:8])\n",
        "weather = a[8:]\n",
        "print(\"오늘은 %s년 %s월 %s일이며, 날씨는 %s로 예보되어 있습니다\" %(year, month, date, weather))"
      ],
      "metadata": {
        "colab": {
          "base_uri": "https://localhost:8080/"
        },
        "id": "xdBn1R-q8UB7",
        "outputId": "2cd0fdb2-c25f-4738-e03d-001ec92135e4"
      },
      "execution_count": 21,
      "outputs": [
        {
          "output_type": "stream",
          "name": "stdout",
          "text": [
            "오늘은 2022년 03월 20일이며, 날씨는 Rainy로 예보되어 있습니다\n"
          ]
        }
      ]
    },
    {
      "cell_type": "markdown",
      "source": [
        "문자열 포맷코드\n",
        "\n",
        "1. %s : 문자열(string)  : 아래의 어떤 형태의 값을 대입하도 문자열로 변환하여 출력한다.\n",
        "2. %c : 문자1개(Character\n",
        "3. %d : 정수(integer)\n",
        "4. %f : 부동소수 (Floating-point)\n",
        "5. %o : 8진수\n",
        "6. %x : 16진수\n",
        "7. %% : 문자 % 자체"
      ],
      "metadata": {
        "id": "McHuYciQAk8H"
      }
    },
    {
      "cell_type": "code",
      "source": [
        "print(\"I have %s apples\" %3)"
      ],
      "metadata": {
        "colab": {
          "base_uri": "https://localhost:8080/"
        },
        "id": "JzvBCF7aAdpK",
        "outputId": "62cb5dda-738e-4523-ac64-1b099dbeccd6"
      },
      "execution_count": 22,
      "outputs": [
        {
          "output_type": "stream",
          "name": "stdout",
          "text": [
            "I have 3 apples\n"
          ]
        }
      ]
    },
    {
      "cell_type": "code",
      "source": [
        "print(\"rate is %s\" %3.234)"
      ],
      "metadata": {
        "colab": {
          "base_uri": "https://localhost:8080/"
        },
        "id": "7X4KuWJxBngK",
        "outputId": "5a0a06bf-9d0a-4da7-fd23-82fbeb3c781f"
      },
      "execution_count": 23,
      "outputs": [
        {
          "output_type": "stream",
          "name": "stdout",
          "text": [
            "rate is 3.234\n"
          ]
        }
      ]
    },
    {
      "cell_type": "code",
      "source": [
        "print(\"Error rate is %d%%\" %98.5)"
      ],
      "metadata": {
        "colab": {
          "base_uri": "https://localhost:8080/"
        },
        "id": "nOh24EjrBwJd",
        "outputId": "bf7b82bd-99ce-45c4-a480-febd0eac7d4a"
      },
      "execution_count": 24,
      "outputs": [
        {
          "output_type": "stream",
          "name": "stdout",
          "text": [
            "Error rate is 98%\n"
          ]
        }
      ]
    },
    {
      "cell_type": "code",
      "source": [
        "# 포맷코드와 숫자 함께 사용\n",
        "print(\"%10s\" % \"hi\")   # hi가 오늘쪽으로 정렬, 전체길이가 10개인 문자열 공간에서 오른쪽으로 정열하고 앞의 나머지는 공백으로\n",
        "print(\"%-10s jane\" % \"hi \") #hi를 포함한 10개 문자열(hi는 왼쪽 정렬) + jane"
      ],
      "metadata": {
        "colab": {
          "base_uri": "https://localhost:8080/"
        },
        "id": "Yii4xtL-B87N",
        "outputId": "55d0a30d-4a07-4e64-b490-b566528ae451"
      },
      "execution_count": 30,
      "outputs": [
        {
          "output_type": "stream",
          "name": "stdout",
          "text": [
            "        hi\n",
            "hi         jane\n"
          ]
        }
      ]
    },
    {
      "cell_type": "code",
      "source": [
        "print(\"%.4f\" %3.42134234)  # 0.4는 소숫점 네자리까지 나타냄   #%0.4,f 로도 가능\n",
        "print(\"%10.4f\" % 3.42134234) # 전체 10개의 문자열 공간에서 오른쪽 정렬하고(숫자앞에는 공백 4개), 소수점 4자리까지 표시"
      ],
      "metadata": {
        "colab": {
          "base_uri": "https://localhost:8080/"
        },
        "id": "v9Gdy1UMCSIs",
        "outputId": "e1c0f167-f1c9-450c-9bd1-9db49eb2e421"
      },
      "execution_count": 34,
      "outputs": [
        {
          "output_type": "stream",
          "name": "stdout",
          "text": [
            "3.4213\n",
            "    3.4213\n"
          ]
        }
      ]
    },
    {
      "cell_type": "code",
      "source": [
        "# format 함수를 사용한 포매팅\n",
        "\n",
        "print(\"I eat {0} apples\".format(3))  #{0}인 부분이 format의 3으로 변경\n",
        "print(\"I eat {0} apples\".format(\"five\"))"
      ],
      "metadata": {
        "colab": {
          "base_uri": "https://localhost:8080/"
        },
        "id": "8npjXfkIDWMs",
        "outputId": "bd3070be-c58d-4744-d7cb-7870ed09385e"
      },
      "execution_count": 38,
      "outputs": [
        {
          "output_type": "stream",
          "name": "stdout",
          "text": [
            "I eat 3 apples\n",
            "I eat five apples\n"
          ]
        }
      ]
    },
    {
      "cell_type": "code",
      "source": [
        "number = 5\n",
        "print(\"I eat {0} apples\".format(number))"
      ],
      "metadata": {
        "colab": {
          "base_uri": "https://localhost:8080/"
        },
        "id": "-htfqqMFEbK3",
        "outputId": "7d071054-ce6a-45c6-c5f1-0b054a32e16a"
      },
      "execution_count": 39,
      "outputs": [
        {
          "output_type": "stream",
          "name": "stdout",
          "text": [
            "I eat 5 apples\n"
          ]
        }
      ]
    },
    {
      "cell_type": "code",
      "source": [
        "number = 10\n",
        "day = \"three\"\n",
        "print(\"I ate {0} apples. so I was sick for {1} days.\".format(number,day))"
      ],
      "metadata": {
        "colab": {
          "base_uri": "https://localhost:8080/"
        },
        "id": "t5nUuoIqE-D8",
        "outputId": "3c39be91-bf27-4a01-b761-1d2332317996"
      },
      "execution_count": 40,
      "outputs": [
        {
          "output_type": "stream",
          "name": "stdout",
          "text": [
            "I ate 10 apples. so I was sick for three days.\n"
          ]
        }
      ]
    },
    {
      "cell_type": "code",
      "source": [
        "print(\"I ate {number} apples. so I was sick for {day} days.\".format(number=15,day=5))"
      ],
      "metadata": {
        "colab": {
          "base_uri": "https://localhost:8080/"
        },
        "id": "yxGpGCebFZXE",
        "outputId": "e0603067-548e-4124-ebaf-d47e0a0b2280"
      },
      "execution_count": 41,
      "outputs": [
        {
          "output_type": "stream",
          "name": "stdout",
          "text": [
            "I ate 15 apples. so I was sick for 5 days.\n"
          ]
        }
      ]
    },
    {
      "cell_type": "code",
      "source": [
        "print(\"I ate {0} apples, so I was sick for {day} days.\".format(2,day=2))"
      ],
      "metadata": {
        "colab": {
          "base_uri": "https://localhost:8080/"
        },
        "id": "fzaH33dlGBNB",
        "outputId": "66bd0aa3-ba45-49fb-ae45-905c055bd096"
      },
      "execution_count": 46,
      "outputs": [
        {
          "output_type": "stream",
          "name": "stdout",
          "text": [
            "I ate 2 apples, so I was sick for 2 days.\n"
          ]
        }
      ]
    },
    {
      "cell_type": "code",
      "source": [
        "#왼쪽, 오른쪽 정렬, 가운데 정렬\n",
        "print(\"{0:<10}\".format(\"hi\"))\n",
        "print(\"{0:>10}\".format(\"hi\"))\n",
        "print(\"{0:^10}\".format(\"hi\"))"
      ],
      "metadata": {
        "colab": {
          "base_uri": "https://localhost:8080/"
        },
        "id": "ITLrjSt4GsJE",
        "outputId": "5eabf2dd-e121-4495-f039-5d3308ce0cb7"
      },
      "execution_count": 50,
      "outputs": [
        {
          "output_type": "stream",
          "name": "stdout",
          "text": [
            "hi        \n",
            "        hi\n",
            "    hi    \n"
          ]
        }
      ]
    },
    {
      "cell_type": "code",
      "source": [
        "#공백채우기\n",
        "print(\"{0:=^10}\".format(\"hi\"))  # '='는 채워지는 문자, '^'는 가운데 정렬, 10은 10개 문자열\n",
        "print(\"{0:!<10}\".format(\"hi\"))  # '!'는 채워지는 문자, \"<\"는 좌측정렬, 10은 10개 문자열"
      ],
      "metadata": {
        "colab": {
          "base_uri": "https://localhost:8080/"
        },
        "id": "YVl_xXCVHAMM",
        "outputId": "1cb1c2d8-e08a-478f-eac9-d41432f390ec"
      },
      "execution_count": 54,
      "outputs": [
        {
          "output_type": "stream",
          "name": "stdout",
          "text": [
            "====hi====\n",
            "hi!!!!!!!!\n"
          ]
        }
      ]
    },
    {
      "cell_type": "code",
      "source": [
        "y = 3.42134234\n",
        "print(\"{0:0.2f}\".format(y))\n",
        "print(\"{0:20.2f}\".format(y))  #20개짜리 문자열"
      ],
      "metadata": {
        "colab": {
          "base_uri": "https://localhost:8080/"
        },
        "id": "3YK78kPWHkks",
        "outputId": "73a53e28-5235-402f-c161-c3a33073d92f"
      },
      "execution_count": 57,
      "outputs": [
        {
          "output_type": "stream",
          "name": "stdout",
          "text": [
            "3.42\n",
            "                3.42\n"
          ]
        }
      ]
    },
    {
      "cell_type": "code",
      "source": [
        "print(\"{{ and }}\".format())"
      ],
      "metadata": {
        "colab": {
          "base_uri": "https://localhost:8080/"
        },
        "id": "0iAsbb6nIZIl",
        "outputId": "ec714248-cc99-4413-a5ff-961bf0aaf44b"
      },
      "execution_count": 58,
      "outputs": [
        {
          "output_type": "stream",
          "name": "stdout",
          "text": [
            "{ and }\n"
          ]
        }
      ]
    },
    {
      "cell_type": "code",
      "source": [
        "#f문자열 포매팅 - 파이썬 3.6버전부터 사용가능\n",
        "name = '홍길동'\n",
        "age = 30\n",
        "print(f'나의 이름은 {name}입니다. 나이는 {age}살입니다.')\n",
        "print(f'나의 이름은 {name}입니다. 나이는 {age}살이고, 내년에는 {age+1}살이 됩니다.')"
      ],
      "metadata": {
        "colab": {
          "base_uri": "https://localhost:8080/"
        },
        "id": "vH_zSuZuI7zC",
        "outputId": "4237c9fd-63f0-4902-eb52-4cd0564b0c0f"
      },
      "execution_count": 60,
      "outputs": [
        {
          "output_type": "stream",
          "name": "stdout",
          "text": [
            "나의 이름은 홍길동입니다. 나이는 30살입니다.\n",
            "나의 이름은 홍길동입니다. 나이는 30살이고, 내년에는 31살이 됩니다.\n"
          ]
        }
      ]
    },
    {
      "cell_type": "code",
      "source": [
        "d = {'name': '홍길동', 'age': 30}   #딕셔너리\n",
        "print(f'나의 이름은 {d[\"name\"]}입니다. 나이는 {d[\"age\"]}입니다.')"
      ],
      "metadata": {
        "colab": {
          "base_uri": "https://localhost:8080/"
        },
        "id": "jF1sF90bJLDc",
        "outputId": "e530f2e5-0b08-4f9c-a273-f9e15bf0f36e"
      },
      "execution_count": 62,
      "outputs": [
        {
          "output_type": "stream",
          "name": "stdout",
          "text": [
            "나의 이름은 홍길동입니다. 나이는 30입니다.\n"
          ]
        }
      ]
    },
    {
      "cell_type": "code",
      "source": [
        "#정렬, 공백채우기\n",
        "f'{\"hi\":<10}'"
      ],
      "metadata": {
        "colab": {
          "base_uri": "https://localhost:8080/",
          "height": 36
        },
        "id": "OnJs5KIAKDGc",
        "outputId": "d79a27a8-397a-4c2f-e2a5-da41cdbf0d52"
      },
      "execution_count": 66,
      "outputs": [
        {
          "output_type": "execute_result",
          "data": {
            "text/plain": [
              "'hi        '"
            ],
            "application/vnd.google.colaboratory.intrinsic+json": {
              "type": "string"
            }
          },
          "metadata": {},
          "execution_count": 66
        }
      ]
    },
    {
      "cell_type": "code",
      "source": [
        "f'{\"hi\":>10}'"
      ],
      "metadata": {
        "colab": {
          "base_uri": "https://localhost:8080/",
          "height": 36
        },
        "id": "-qX3-NBGKaAt",
        "outputId": "8cdf9e1d-54f0-47f8-979b-6beb266e2c2f"
      },
      "execution_count": 67,
      "outputs": [
        {
          "output_type": "execute_result",
          "data": {
            "text/plain": [
              "'        hi'"
            ],
            "application/vnd.google.colaboratory.intrinsic+json": {
              "type": "string"
            }
          },
          "metadata": {},
          "execution_count": 67
        }
      ]
    },
    {
      "cell_type": "code",
      "source": [
        "f'{\"hi\":^10}'"
      ],
      "metadata": {
        "colab": {
          "base_uri": "https://localhost:8080/",
          "height": 36
        },
        "id": "lZLvHFkLLOX0",
        "outputId": "55f4f143-891a-44ed-fd5d-1433a37d5acd"
      },
      "execution_count": 68,
      "outputs": [
        {
          "output_type": "execute_result",
          "data": {
            "text/plain": [
              "'    hi    '"
            ],
            "application/vnd.google.colaboratory.intrinsic+json": {
              "type": "string"
            }
          },
          "metadata": {},
          "execution_count": 68
        }
      ]
    },
    {
      "cell_type": "markdown",
      "source": [
        "문자열 내장함수\n",
        "1. count : 문자개수세기\n",
        "2. find : 위치알려주기\n",
        "3. index : 위치알려주기\n",
        "4. join : 문자열 삽입\n",
        "5. upper : 소문자를 대문자로\n",
        "6. lower : 대문자를 소문자로\n",
        "7. lstrip : 왼쪽 공백지우기\n",
        "8. rstrip : 오른쪽 공백지우기\n",
        "9. strip : 양쪽 공백 지우기\n",
        "10. replace : 문자열 바꾸기\n",
        "11. split : 문자열 나누기"
      ],
      "metadata": {
        "id": "2VBJjQxaLgpo"
      }
    },
    {
      "cell_type": "code",
      "source": [
        "a  ='hobby'\n",
        "a.count('b')  # 문자열 중 b의 개수"
      ],
      "metadata": {
        "colab": {
          "base_uri": "https://localhost:8080/"
        },
        "id": "caYg0BjgLQuM",
        "outputId": "b2e89b2e-e0d9-4ee0-9ff8-ab192d63a64f"
      },
      "execution_count": 70,
      "outputs": [
        {
          "output_type": "execute_result",
          "data": {
            "text/plain": [
              "2"
            ]
          },
          "metadata": {},
          "execution_count": 70
        }
      ]
    },
    {
      "cell_type": "code",
      "source": [
        "a = 'Python is the best choice' \n",
        "a.find('b')    # 문자열 중 b가 처음으로 나온 위치, 만약 찾는 문자가 없으면 -1로 반환"
      ],
      "metadata": {
        "colab": {
          "base_uri": "https://localhost:8080/"
        },
        "id": "-Iw7-VfiMJOW",
        "outputId": "c3394c4f-3cfd-4c3e-f55a-4be9de9fe876"
      },
      "execution_count": 71,
      "outputs": [
        {
          "output_type": "execute_result",
          "data": {
            "text/plain": [
              "14"
            ]
          },
          "metadata": {},
          "execution_count": 71
        }
      ]
    },
    {
      "cell_type": "code",
      "source": [
        "a = 'Life is too short'\n",
        "a.index('t')   # 문자열 중 t가 맨 처음 나온 위치 반환, 만약 찾는 문자가 없으면 오류발생"
      ],
      "metadata": {
        "colab": {
          "base_uri": "https://localhost:8080/"
        },
        "id": "wUvJyeqYMSQt",
        "outputId": "03383643-1781-47dd-8ec3-704ad0eb8524"
      },
      "execution_count": 72,
      "outputs": [
        {
          "output_type": "execute_result",
          "data": {
            "text/plain": [
              "8"
            ]
          },
          "metadata": {},
          "execution_count": 72
        }
      ]
    },
    {
      "cell_type": "code",
      "source": [
        "\",\".join('abcd')   # 문자열뿐 아니라, 리스타, 튜플에서도 사용가능"
      ],
      "metadata": {
        "colab": {
          "base_uri": "https://localhost:8080/",
          "height": 36
        },
        "id": "gm2JI6SUMydt",
        "outputId": "15e7a1a4-ff67-4106-d3d3-5d5df4a11818"
      },
      "execution_count": 73,
      "outputs": [
        {
          "output_type": "execute_result",
          "data": {
            "text/plain": [
              "'a,b,c,d'"
            ],
            "application/vnd.google.colaboratory.intrinsic+json": {
              "type": "string"
            }
          },
          "metadata": {},
          "execution_count": 73
        }
      ]
    },
    {
      "cell_type": "code",
      "source": [
        "a = 'hi'\n",
        "a.upper()"
      ],
      "metadata": {
        "colab": {
          "base_uri": "https://localhost:8080/",
          "height": 36
        },
        "id": "7-PXihFOM7YF",
        "outputId": "fc250be9-d046-4cf6-abae-5176f2e1814f"
      },
      "execution_count": 74,
      "outputs": [
        {
          "output_type": "execute_result",
          "data": {
            "text/plain": [
              "'HI'"
            ],
            "application/vnd.google.colaboratory.intrinsic+json": {
              "type": "string"
            }
          },
          "metadata": {},
          "execution_count": 74
        }
      ]
    },
    {
      "cell_type": "code",
      "source": [
        "a = 'HI'\n",
        "a.lower()"
      ],
      "metadata": {
        "colab": {
          "base_uri": "https://localhost:8080/",
          "height": 36
        },
        "id": "bFPquwTwNKYs",
        "outputId": "7914293a-3f75-49cb-a251-29c99a9c72cf"
      },
      "execution_count": 75,
      "outputs": [
        {
          "output_type": "execute_result",
          "data": {
            "text/plain": [
              "'hi'"
            ],
            "application/vnd.google.colaboratory.intrinsic+json": {
              "type": "string"
            }
          },
          "metadata": {},
          "execution_count": 75
        }
      ]
    },
    {
      "cell_type": "code",
      "source": [
        "a ='         hi'\n",
        "a.lstrip()"
      ],
      "metadata": {
        "colab": {
          "base_uri": "https://localhost:8080/",
          "height": 36
        },
        "id": "TmwcTPqTNNwO",
        "outputId": "c94d293e-a832-4044-fb3e-10588d2b49cc"
      },
      "execution_count": 80,
      "outputs": [
        {
          "output_type": "execute_result",
          "data": {
            "text/plain": [
              "'hi'"
            ],
            "application/vnd.google.colaboratory.intrinsic+json": {
              "type": "string"
            }
          },
          "metadata": {},
          "execution_count": 80
        }
      ]
    },
    {
      "cell_type": "code",
      "source": [
        "a = 'hi           '\n",
        "a.rstrip()"
      ],
      "metadata": {
        "colab": {
          "base_uri": "https://localhost:8080/",
          "height": 36
        },
        "id": "NMnEpnR-NTJf",
        "outputId": "0072549d-e513-40e9-fd74-545eb4f1f026"
      },
      "execution_count": 81,
      "outputs": [
        {
          "output_type": "execute_result",
          "data": {
            "text/plain": [
              "'hi'"
            ],
            "application/vnd.google.colaboratory.intrinsic+json": {
              "type": "string"
            }
          },
          "metadata": {},
          "execution_count": 81
        }
      ]
    },
    {
      "cell_type": "code",
      "source": [
        "a ='      hi        '\n",
        "a.strip()"
      ],
      "metadata": {
        "colab": {
          "base_uri": "https://localhost:8080/",
          "height": 36
        },
        "id": "NtLkgo9ZNjsc",
        "outputId": "5115d247-5114-48fc-f999-a1f04fa315f2"
      },
      "execution_count": 82,
      "outputs": [
        {
          "output_type": "execute_result",
          "data": {
            "text/plain": [
              "'hi'"
            ],
            "application/vnd.google.colaboratory.intrinsic+json": {
              "type": "string"
            }
          },
          "metadata": {},
          "execution_count": 82
        }
      ]
    },
    {
      "cell_type": "code",
      "source": [
        "a = 'Life is too short'\n",
        "a.replace(\"Life\", \"Your Leg\")"
      ],
      "metadata": {
        "colab": {
          "base_uri": "https://localhost:8080/",
          "height": 36
        },
        "id": "XXNWmupWNowE",
        "outputId": "6a4402a7-9593-4962-fd1e-2478cbee1f14"
      },
      "execution_count": 83,
      "outputs": [
        {
          "output_type": "execute_result",
          "data": {
            "text/plain": [
              "'Your Leg is too short'"
            ],
            "application/vnd.google.colaboratory.intrinsic+json": {
              "type": "string"
            }
          },
          "metadata": {},
          "execution_count": 83
        }
      ]
    },
    {
      "cell_type": "code",
      "source": [
        "a = \"Life is too short\"\n",
        "a.split()          #공백을 기준으로 문자를 나눔"
      ],
      "metadata": {
        "colab": {
          "base_uri": "https://localhost:8080/"
        },
        "id": "Mr_PyCmTN1l0",
        "outputId": "95b87b6e-60b3-4a90-b39b-ef4006ddb264"
      },
      "execution_count": 84,
      "outputs": [
        {
          "output_type": "execute_result",
          "data": {
            "text/plain": [
              "['Life', 'is', 'too', 'short']"
            ]
          },
          "metadata": {},
          "execution_count": 84
        }
      ]
    },
    {
      "cell_type": "code",
      "source": [
        "b = \"a:b:c:d\"\n",
        "b.split(':')  # ':' 를 기준으로 문자를 나눔"
      ],
      "metadata": {
        "colab": {
          "base_uri": "https://localhost:8080/"
        },
        "id": "AWFHqao_N-wW",
        "outputId": "f37faf08-6c89-4698-d3a4-bd1c280a6f15"
      },
      "execution_count": 87,
      "outputs": [
        {
          "output_type": "execute_result",
          "data": {
            "text/plain": [
              "['a', 'b', 'c', 'd']"
            ]
          },
          "metadata": {},
          "execution_count": 87
        }
      ]
    },
    {
      "cell_type": "markdown",
      "source": [
        "리스트형 자료\n",
        "\n",
        "odd = [1, 3, 5, 7, 9]\n",
        "\n",
        "['Life', 'is', 'too', 'short']\n",
        "\n",
        "[1, 2, 'Life', 'is']\n",
        "\n",
        "[1, 2, ['Life', 'is']]\n",
        "\n",
        "리스트관련 함수: \n",
        "\n",
        "append: 리스트에 요소 추가\n",
        "\n",
        "sort: 리스트의 요소를 순서대로 정렬\n",
        "\n",
        "reverse: 리스트를 역순으로 뒤집는다\n",
        "\n",
        "index : 리스트에 x값이 있으면 x의 위치값을 돌려준다\n",
        "\n",
        "insert : 리스트의 a번째 위치에 b를 삽입\n",
        "\n",
        "remove : 리스트에서 첫번째로 나오는 x를 삭제\n",
        "\n",
        "pop : 리스트의 맨 마지막 요소를 돌려주고 그 요소는 삭제\n",
        "\n",
        "count : 리스트에 포함된 요소 개수\n",
        "\n",
        "extend : 리스트 확장"
      ],
      "metadata": {
        "id": "2V06FKx2OUaf"
      }
    },
    {
      "cell_type": "code",
      "source": [
        "# 리스트의 인덱싱과 슬라이싱\n",
        "\n",
        "a = [1, 2, ['Life', 'is']]\n",
        "print(a[-1][1])  # 리스트 맨 마지막 리스트[-1] 중에 두번째 리스트[1] 출력"
      ],
      "metadata": {
        "colab": {
          "base_uri": "https://localhost:8080/"
        },
        "id": "0P89rOPVOEqU",
        "outputId": "f22c1eb4-fb7d-475d-a6c3-4dc93d080539"
      },
      "execution_count": 89,
      "outputs": [
        {
          "output_type": "stream",
          "name": "stdout",
          "text": [
            "is\n"
          ]
        }
      ]
    },
    {
      "cell_type": "code",
      "source": [
        "# 삼중 리스트의 인덱싱\n",
        "a = [1, 2, ['a', 'b', ['Life', 'is']]]\n",
        "print(a[2][2][0])"
      ],
      "metadata": {
        "colab": {
          "base_uri": "https://localhost:8080/"
        },
        "id": "b2ecL3aWPNAW",
        "outputId": "a6b56ab2-bac0-4490-e0e4-1741171d244f"
      },
      "execution_count": 90,
      "outputs": [
        {
          "output_type": "stream",
          "name": "stdout",
          "text": [
            "Life\n"
          ]
        }
      ]
    },
    {
      "cell_type": "code",
      "source": [
        "# 리스트의 슬라이싱\n",
        "a = [1,2,3,4,5]\n",
        "b = a[0:2]\n",
        "b"
      ],
      "metadata": {
        "colab": {
          "base_uri": "https://localhost:8080/"
        },
        "id": "gEzuUB2gPy0H",
        "outputId": "5f4b65aa-7c56-4843-f118-496164bb09c5"
      },
      "execution_count": 92,
      "outputs": [
        {
          "output_type": "execute_result",
          "data": {
            "text/plain": [
              "[1, 2]"
            ]
          },
          "metadata": {},
          "execution_count": 92
        }
      ]
    },
    {
      "cell_type": "code",
      "source": [
        "# 연산 오류\n",
        "a = [1, 2, 3]\n",
        "print(str(a[2]) + 'hi')"
      ],
      "metadata": {
        "colab": {
          "base_uri": "https://localhost:8080/"
        },
        "id": "x8ynnrlmQB3H",
        "outputId": "4d27fd7d-e961-49c8-c726-103ba2a2ef13"
      },
      "execution_count": 97,
      "outputs": [
        {
          "output_type": "stream",
          "name": "stdout",
          "text": [
            "3hi\n"
          ]
        }
      ]
    },
    {
      "cell_type": "code",
      "source": [
        "# 리스트의 수정과 삭제\n",
        "a = [1, 2, 3]\n",
        "a[2] = 4\n",
        "print(a)"
      ],
      "metadata": {
        "colab": {
          "base_uri": "https://localhost:8080/"
        },
        "id": "YF5u5AmyQjPl",
        "outputId": "0e6f63cf-ef81-4058-bca5-8d9d52ba353d"
      },
      "execution_count": 98,
      "outputs": [
        {
          "output_type": "stream",
          "name": "stdout",
          "text": [
            "[1, 2, 4]\n"
          ]
        }
      ]
    },
    {
      "cell_type": "code",
      "source": [
        "a = [1, 2, 3]\n",
        "del a[1]\n",
        "print(a)"
      ],
      "metadata": {
        "colab": {
          "base_uri": "https://localhost:8080/"
        },
        "id": "VdAR6rTERCv1",
        "outputId": "7a98d002-52fc-47b7-aa2d-cb5d4b9cf053"
      },
      "execution_count": 99,
      "outputs": [
        {
          "output_type": "stream",
          "name": "stdout",
          "text": [
            "[1, 3]\n"
          ]
        }
      ]
    },
    {
      "cell_type": "code",
      "source": [
        "a = [1, 2, 3]\n",
        "del a[1:]\n",
        "print(a)"
      ],
      "metadata": {
        "colab": {
          "base_uri": "https://localhost:8080/"
        },
        "id": "L4BLTaweRJjN",
        "outputId": "34f569d0-8a6e-4a3e-bebc-ee77f4082072"
      },
      "execution_count": 100,
      "outputs": [
        {
          "output_type": "stream",
          "name": "stdout",
          "text": [
            "[1]\n"
          ]
        }
      ]
    },
    {
      "cell_type": "code",
      "source": [
        "a = [1, 2, 3]\n",
        "a.append(4)\n",
        "print(a)\n",
        "a.append([5,6,7])\n",
        "print(a)"
      ],
      "metadata": {
        "colab": {
          "base_uri": "https://localhost:8080/"
        },
        "id": "4j2XpVIRRQwt",
        "outputId": "d6565ff0-4236-4bf3-a74b-e0419b6f2e86"
      },
      "execution_count": 106,
      "outputs": [
        {
          "output_type": "stream",
          "name": "stdout",
          "text": [
            "[1, 2, 3, 4]\n",
            "[1, 2, 3, 4, [5, 6, 7]]\n"
          ]
        }
      ]
    },
    {
      "cell_type": "code",
      "source": [
        "a = [1, 2, 3]\n",
        "a.extend([4,5,6])\n",
        "b = a + [4,5,6] \n",
        "print(a)\n",
        "print(b)"
      ],
      "metadata": {
        "colab": {
          "base_uri": "https://localhost:8080/"
        },
        "id": "l6w2p5WxSM5-",
        "outputId": "17c22f84-cfcb-41ba-94ec-ff56476b085d"
      },
      "execution_count": 110,
      "outputs": [
        {
          "output_type": "stream",
          "name": "stdout",
          "text": [
            "[1, 2, 3, 4, 5, 6]\n",
            "[1, 2, 3, 4, 5, 6, 4, 5, 6]\n"
          ]
        }
      ]
    },
    {
      "cell_type": "code",
      "source": [
        "a = [1, 4, 3, 2]\n",
        "a.sort()\n",
        "print(a)"
      ],
      "metadata": {
        "colab": {
          "base_uri": "https://localhost:8080/"
        },
        "id": "cF8mHPmbS6Cl",
        "outputId": "2ae46484-5c2f-4ff2-e8c4-e004e52169bd"
      },
      "execution_count": 111,
      "outputs": [
        {
          "output_type": "stream",
          "name": "stdout",
          "text": [
            "[1, 2, 3, 4]\n"
          ]
        }
      ]
    },
    {
      "cell_type": "code",
      "source": [
        "a = ['a', 'd', 'c', 'b']\n",
        "a.sort()\n",
        "print(a)"
      ],
      "metadata": {
        "colab": {
          "base_uri": "https://localhost:8080/"
        },
        "id": "IOEQXHOiTbR1",
        "outputId": "96bcca09-cd03-4b7d-99d4-342045063db8"
      },
      "execution_count": 113,
      "outputs": [
        {
          "output_type": "stream",
          "name": "stdout",
          "text": [
            "['a', 'b', 'c', 'd']\n"
          ]
        }
      ]
    },
    {
      "cell_type": "code",
      "source": [
        "a = ['a', 'd', 'c', 'b']\n",
        "a.reverse()    # 현재 상태 그대로 뒤집는다\n",
        "print(a)"
      ],
      "metadata": {
        "colab": {
          "base_uri": "https://localhost:8080/"
        },
        "id": "bt1_UbVwTioN",
        "outputId": "26d1a7fc-eed0-437d-9044-f5f0fbe45c49"
      },
      "execution_count": 114,
      "outputs": [
        {
          "output_type": "stream",
          "name": "stdout",
          "text": [
            "['b', 'c', 'd', 'a']\n"
          ]
        }
      ]
    },
    {
      "cell_type": "code",
      "source": [
        "a = [1, 2, 3, 4, 5, 6]\n",
        "print(a.index(3))   # 3은 리스트의 a[2]요소\n",
        "print(a.index(5))"
      ],
      "metadata": {
        "colab": {
          "base_uri": "https://localhost:8080/"
        },
        "id": "tgat6YvHTvFd",
        "outputId": "b5676b9f-6e2c-48f0-d396-b3e082bd87c5"
      },
      "execution_count": 116,
      "outputs": [
        {
          "output_type": "stream",
          "name": "stdout",
          "text": [
            "2\n",
            "4\n"
          ]
        }
      ]
    },
    {
      "cell_type": "code",
      "source": [
        "a = [1, 2, 3]\n",
        "a.insert(0,4)   # a[0]의 위치에 4를 삽입\n",
        "a.insert(2,7)\n",
        "print(a)"
      ],
      "metadata": {
        "colab": {
          "base_uri": "https://localhost:8080/"
        },
        "id": "9_h8aIc_T9SF",
        "outputId": "4bd637e1-8505-4f5b-890e-29bcc6272b85"
      },
      "execution_count": 121,
      "outputs": [
        {
          "output_type": "stream",
          "name": "stdout",
          "text": [
            "[4, 1, 7, 2, 3]\n"
          ]
        }
      ]
    },
    {
      "cell_type": "code",
      "source": [
        "a = [1,2,3,1,2,3]\n",
        "a.remove(3)  # 리스트에서 첫번째로 나오는 3을 제거\n",
        "a.remove(3)\n",
        "print(a)"
      ],
      "metadata": {
        "colab": {
          "base_uri": "https://localhost:8080/"
        },
        "id": "BCUMUYTEUQ3O",
        "outputId": "1127f61d-2309-442d-e2c4-e83983ea4cf3"
      },
      "execution_count": 123,
      "outputs": [
        {
          "output_type": "stream",
          "name": "stdout",
          "text": [
            "[1, 2, 1, 2]\n"
          ]
        }
      ]
    },
    {
      "cell_type": "code",
      "source": [
        "a = [1, 2, 3]\n",
        "print(a.pop(1)) # 리스트에서 a[1]번째 요소를 반환하고, 그 요소는 삭제한다\n",
        "print(a)"
      ],
      "metadata": {
        "colab": {
          "base_uri": "https://localhost:8080/"
        },
        "id": "1_j75E2SUu2e",
        "outputId": "7e888657-3449-4da0-fb60-a681b22f6dc6"
      },
      "execution_count": 125,
      "outputs": [
        {
          "output_type": "stream",
          "name": "stdout",
          "text": [
            "2\n",
            "[1, 3]\n"
          ]
        }
      ]
    },
    {
      "cell_type": "code",
      "source": [
        "a = [1,2,3,1]\n",
        "print(a.count(1))  #리스트안에 1이 몇개 있는지\n"
      ],
      "metadata": {
        "colab": {
          "base_uri": "https://localhost:8080/"
        },
        "id": "b_I77UQAVCLG",
        "outputId": "d2bcd519-e7ee-4422-f86c-922211eede5a"
      },
      "execution_count": 126,
      "outputs": [
        {
          "output_type": "stream",
          "name": "stdout",
          "text": [
            "2\n"
          ]
        }
      ]
    },
    {
      "cell_type": "markdown",
      "source": [
        "튜플자료형\n",
        "\n",
        "[   ] - 리스트,   (    ) - 튜플: 리스트와는 달리 값의 생성, 삭제, 수정이 불가하다"
      ],
      "metadata": {
        "id": "SNHKCnUgVYVK"
      }
    },
    {
      "cell_type": "code",
      "source": [
        "a = (1, 2, 3)\n",
        "b = a + (4,)   # 튜플 a에 4를 추가하기\n",
        "print(b)"
      ],
      "metadata": {
        "colab": {
          "base_uri": "https://localhost:8080/"
        },
        "id": "6_sJgr9QVQkm",
        "outputId": "f85c9fce-e8f1-44ff-f468-5a6dfba83062"
      },
      "execution_count": 128,
      "outputs": [
        {
          "output_type": "stream",
          "name": "stdout",
          "text": [
            "(1, 2, 3, 4)\n"
          ]
        }
      ]
    },
    {
      "cell_type": "markdown",
      "source": [
        "딕셔너리\n",
        "dic = { key1 : value1, key2 : value 2 }\n",
        "\n",
        " { a : [1,2,3]} - 밸류값이 리스트도 가능\n",
        "\n",
        " 관련함수\n",
        "\n",
        " keys : key만 반환(a.keys()), dict_keys를 리스트로 변환할 수 있다. list(a.keys())\n",
        "\n",
        " values : values()\n",
        "\n",
        " items : key, value 쌍 반환, a.items()\n",
        "\n",
        " clear : key, value 쌍으로 지우고 딕셔너리 안의 모든 요소를 삭제, a.clear()\n",
        "\n",
        " get : key로 value 얻기, a.get('name')\n",
        "\n",
        " in : 해당 key가 딕셔너리 안에 있는 조사  'name' in a"
      ],
      "metadata": {
        "id": "W_5tmOnZWOxu"
      }
    },
    {
      "cell_type": "code",
      "source": [
        "# 딕셔너리에 쌍 추가\n",
        "a = {1:'a'}\n",
        "a[2] = 'b'  # {2:'b'} 추가\n",
        "a['name'] = 'pey'\n",
        "a[3] = [1,2,3]\n",
        "print(a)"
      ],
      "metadata": {
        "colab": {
          "base_uri": "https://localhost:8080/"
        },
        "id": "4EmKQyNfV68h",
        "outputId": "a3d1326f-cc81-44c8-874b-326dc339e696"
      },
      "execution_count": 132,
      "outputs": [
        {
          "output_type": "stream",
          "name": "stdout",
          "text": [
            "{1: 'a', 2: 'b', 'name': 'pey', 3: [1, 2, 3]}\n"
          ]
        }
      ]
    },
    {
      "cell_type": "code",
      "source": [
        "del a[1]\n",
        "print(a)"
      ],
      "metadata": {
        "colab": {
          "base_uri": "https://localhost:8080/"
        },
        "id": "8T0gAT8rWt-X",
        "outputId": "a5b53082-d4c2-433f-f3e4-563605e6250f"
      },
      "execution_count": 134,
      "outputs": [
        {
          "output_type": "stream",
          "name": "stdout",
          "text": [
            "{2: 'b', 'name': 'pey', 3: [1, 2, 3]}\n"
          ]
        }
      ]
    },
    {
      "cell_type": "code",
      "source": [
        "a = {'name': 'pey', 'phone':'0100000000', 'birth':'1118'}\n",
        "'name' in a"
      ],
      "metadata": {
        "colab": {
          "base_uri": "https://localhost:8080/"
        },
        "id": "mdl5D5nJXLnd",
        "outputId": "ee926a1b-9f66-4751-ee8f-f4cd30bfa795"
      },
      "execution_count": 137,
      "outputs": [
        {
          "output_type": "execute_result",
          "data": {
            "text/plain": [
              "True"
            ]
          },
          "metadata": {},
          "execution_count": 137
        }
      ]
    },
    {
      "cell_type": "code",
      "source": [
        "'emain' in a"
      ],
      "metadata": {
        "colab": {
          "base_uri": "https://localhost:8080/"
        },
        "id": "A-mmZXFPZX6P",
        "outputId": "27cf7133-0f49-4138-b4e1-d00943b148a5"
      },
      "execution_count": 139,
      "outputs": [
        {
          "output_type": "execute_result",
          "data": {
            "text/plain": [
              "False"
            ]
          },
          "metadata": {},
          "execution_count": 139
        }
      ]
    },
    {
      "cell_type": "markdown",
      "source": [
        "집합자료형\n",
        "\n",
        "s1 = set([1,2,3])   #리스트형 집합\n",
        "s2 = set('Hello')   #문자열 집합\n",
        "\n",
        "중복을 허용하지 않고 순서가 없다\n"
      ],
      "metadata": {
        "id": "X2v0Q3iBZwo2"
      }
    },
    {
      "cell_type": "code",
      "source": [
        "s1 = set([1,2,3])  \n",
        "s2 = set('Hello')   #문자열 집합\n",
        "print(s1, s2)"
      ],
      "metadata": {
        "colab": {
          "base_uri": "https://localhost:8080/"
        },
        "id": "_3xRqYhcZd3u",
        "outputId": "c5a8cd89-3150-45fa-cb54-94829eed200e"
      },
      "execution_count": 140,
      "outputs": [
        {
          "output_type": "stream",
          "name": "stdout",
          "text": [
            "{1, 2, 3} {'H', 'l', 'o', 'e'}\n"
          ]
        }
      ]
    },
    {
      "cell_type": "code",
      "source": [
        "l1 = list(s1)  # 리스트자료로 변환\n",
        "print(l1)\n",
        "print(l1[0])"
      ],
      "metadata": {
        "colab": {
          "base_uri": "https://localhost:8080/"
        },
        "id": "kfS0ArbUaVCw",
        "outputId": "442513ff-611e-4145-ffb2-0ab015f8ed67"
      },
      "execution_count": 142,
      "outputs": [
        {
          "output_type": "stream",
          "name": "stdout",
          "text": [
            "[1, 2, 3]\n",
            "1\n"
          ]
        }
      ]
    },
    {
      "cell_type": "code",
      "source": [
        "t1 = tuple(s1) # 튜플자료로 변환\n",
        "print(t1)\n",
        "print(t1[2])"
      ],
      "metadata": {
        "colab": {
          "base_uri": "https://localhost:8080/"
        },
        "id": "YOKSGmjJas0P",
        "outputId": "6a0d3518-b330-44a3-be05-35ce226fd8cb"
      },
      "execution_count": 143,
      "outputs": [
        {
          "output_type": "stream",
          "name": "stdout",
          "text": [
            "(1, 2, 3)\n",
            "3\n"
          ]
        }
      ]
    },
    {
      "cell_type": "code",
      "source": [
        "# 교집합, 합집합, 차집합 구하기\n",
        "\n",
        "s1 = set([1,2,3,4,5,6])\n",
        "s2 = set([4,5,6,7,8,9])\n",
        "print(s1 & s2)   # 교집합 - '&'대신 intersection도 사용가능 --> s1.intersection(s2)\n",
        "print(s1 | s2)   # 합집합 - '|'대신 union도 사용가능 --> s1.union(s2)\n",
        "print(s1 - s2)   # 차집합 - '-'대신 diference도 사용가능 --> s1.difference(s2) "
      ],
      "metadata": {
        "colab": {
          "base_uri": "https://localhost:8080/"
        },
        "id": "QQxPl9esa6n3",
        "outputId": "12953c3a-d4d8-4257-c11c-c72075e163b6"
      },
      "execution_count": 144,
      "outputs": [
        {
          "output_type": "stream",
          "name": "stdout",
          "text": [
            "{4, 5, 6}\n",
            "{1, 2, 3, 4, 5, 6, 7, 8, 9}\n",
            "{1, 2, 3}\n"
          ]
        }
      ]
    },
    {
      "cell_type": "code",
      "source": [
        "# add, update, remove 함수\n",
        "s1 = set([1,2,3])\n",
        "s1.add(4)\n",
        "print(s1)"
      ],
      "metadata": {
        "colab": {
          "base_uri": "https://localhost:8080/"
        },
        "id": "15cd7Ppbb5_9",
        "outputId": "f2ab1e45-0720-4163-c68c-81f7c1f52d91"
      },
      "execution_count": 145,
      "outputs": [
        {
          "output_type": "stream",
          "name": "stdout",
          "text": [
            "{1, 2, 3, 4}\n"
          ]
        }
      ]
    },
    {
      "cell_type": "code",
      "source": [
        "s1 = set([1,2,3])\n",
        "s1.update([4,5,6])  #여러개를 한번에 추가할때\n",
        "print(s1)"
      ],
      "metadata": {
        "colab": {
          "base_uri": "https://localhost:8080/"
        },
        "id": "9zLop1aJcJTX",
        "outputId": "4e771a9e-3c10-422c-f80e-a89a2ce5e3c9"
      },
      "execution_count": 146,
      "outputs": [
        {
          "output_type": "stream",
          "name": "stdout",
          "text": [
            "{1, 2, 3, 4, 5, 6}\n"
          ]
        }
      ]
    },
    {
      "cell_type": "code",
      "source": [
        "s1 = set([1,2,3])\n",
        "s1.remove(2)\n",
        "print(s1)"
      ],
      "metadata": {
        "colab": {
          "base_uri": "https://localhost:8080/"
        },
        "id": "kgqD_d3tcSZ5",
        "outputId": "36eccb9b-3c8c-404d-b3a2-f6b7a69dca59"
      },
      "execution_count": 147,
      "outputs": [
        {
          "output_type": "stream",
          "name": "stdout",
          "text": [
            "{1, 3}\n"
          ]
        }
      ]
    },
    {
      "cell_type": "markdown",
      "source": [
        "불 자료형\n",
        "True 와 False를 나타내는 자료\n",
        "a = True\n",
        "b = False\n",
        "\n",
        "자료형의 참/거짓의 구분기준 (안의 내용이 비어 있으면 거짓)\n",
        "\n",
        "문자열: \"phthon\" 참,  \"\"거짓\n",
        "\n",
        "리스트: [1,2,3]참,  []거짓\n",
        "\n",
        "튜플: () 거짓\n",
        "\n",
        "딕셔너리: {} 거짓\n",
        "\n",
        "숫자형:숫자 0 이 아닌 숫자: 참,   숫자 0: 거짓,  none:거짓"
      ],
      "metadata": {
        "id": "1Y7zDmyndO46"
      }
    },
    {
      "cell_type": "code",
      "source": [
        "a = True\n",
        "b = False\n",
        "print(type(a))"
      ],
      "metadata": {
        "colab": {
          "base_uri": "https://localhost:8080/"
        },
        "id": "WAMvhDOecWWO",
        "outputId": "302f80e0-2384-4e23-eed7-e10ffb10fcd3"
      },
      "execution_count": 152,
      "outputs": [
        {
          "output_type": "stream",
          "name": "stdout",
          "text": [
            "<class 'bool'>\n"
          ]
        }
      ]
    },
    {
      "cell_type": "code",
      "source": [
        "print(type(b))"
      ],
      "metadata": {
        "colab": {
          "base_uri": "https://localhost:8080/"
        },
        "id": "HGRJlMKpdc3o",
        "outputId": "7bf4a26c-e59e-4695-9a08-111718aadaf3"
      },
      "execution_count": 153,
      "outputs": [
        {
          "output_type": "stream",
          "name": "stdout",
          "text": [
            "<class 'bool'>\n"
          ]
        }
      ]
    },
    {
      "cell_type": "code",
      "source": [
        "a = [1,2,3,4]\n",
        "while a:   # a가 참인 동안(리스트에 숫자가 있는 동안) 실행\n",
        "    print(a.pop()) # 리스트의 마지막 요소를 하나씩 꺼낸다\n",
        "    \n",
        "print(a)    #a가 거짓이면 빠져나와 리스트 a를 출력"
      ],
      "metadata": {
        "colab": {
          "base_uri": "https://localhost:8080/"
        },
        "id": "8ob1o_gjdje2",
        "outputId": "2eeda6c8-b4cb-4cdb-e12f-4ed71299fcd7"
      },
      "execution_count": 156,
      "outputs": [
        {
          "output_type": "stream",
          "name": "stdout",
          "text": [
            "4\n",
            "3\n",
            "2\n",
            "1\n",
            "[]\n"
          ]
        }
      ]
    },
    {
      "cell_type": "code",
      "source": [
        ""
      ],
      "metadata": {
        "id": "1wbHpl4-e0Xh"
      },
      "execution_count": null,
      "outputs": []
    },
    {
      "cell_type": "markdown",
      "source": [
        "변수관련 내장함수\n",
        "id : id(a) - 리스트 a가 저장된 메모리 주소\n",
        "복사 : a = [1,2,3],   b=a  (b와 a는 완전이 동일하고 저장된 메모리 주소도 값다\n",
        "a is b 하면 true로 반환된다\n",
        "\n",
        "copy: from copy improt copy"
      ],
      "metadata": {
        "id": "Rhxed-ivfiq3"
      }
    },
    {
      "cell_type": "code",
      "source": [
        "a = [1,2,3]\n",
        "print(id(a))"
      ],
      "metadata": {
        "colab": {
          "base_uri": "https://localhost:8080/"
        },
        "id": "TXCuzMRAgTcV",
        "outputId": "c658e1ff-fedd-4b86-fff6-19c1f20d1402"
      },
      "execution_count": 157,
      "outputs": [
        {
          "output_type": "stream",
          "name": "stdout",
          "text": [
            "140516250636112\n"
          ]
        }
      ]
    },
    {
      "cell_type": "code",
      "source": [
        "b = a\n",
        "print(b)\n",
        "print(id(b))"
      ],
      "metadata": {
        "colab": {
          "base_uri": "https://localhost:8080/"
        },
        "id": "fJGUFZu3gYDm",
        "outputId": "431738d2-6514-42df-d287-f605e3db7590"
      },
      "execution_count": 158,
      "outputs": [
        {
          "output_type": "stream",
          "name": "stdout",
          "text": [
            "[1, 2, 3]\n",
            "140516250636112\n"
          ]
        }
      ]
    },
    {
      "cell_type": "code",
      "source": [
        "a is b"
      ],
      "metadata": {
        "colab": {
          "base_uri": "https://localhost:8080/"
        },
        "id": "Fl5qXSULgdOv",
        "outputId": "4dc1d82e-a6ea-4d62-97e7-c400beb60a0c"
      },
      "execution_count": 159,
      "outputs": [
        {
          "output_type": "execute_result",
          "data": {
            "text/plain": [
              "True"
            ]
          },
          "metadata": {},
          "execution_count": 159
        }
      ]
    },
    {
      "cell_type": "code",
      "source": [
        "a[1] = 4\n",
        "print(a)\n",
        "print(b)"
      ],
      "metadata": {
        "colab": {
          "base_uri": "https://localhost:8080/"
        },
        "id": "Dxt6YJU4gf0X",
        "outputId": "007f4219-87d2-4f73-e0d4-fe81c8362138"
      },
      "execution_count": 160,
      "outputs": [
        {
          "output_type": "stream",
          "name": "stdout",
          "text": [
            "[1, 4, 3]\n",
            "[1, 4, 3]\n"
          ]
        }
      ]
    },
    {
      "cell_type": "code",
      "source": [
        "# 복사의 다른 방법  ':' 사용\n",
        "\n",
        "a = [1,2,3]\n",
        "b = a[:]   # 이렇게 복사하면\n",
        "a[1] = 4   # a[1]만 바뀌고 b[1]은 바뀌지 않는다  \n",
        "print(a)\n",
        "print(b)"
      ],
      "metadata": {
        "colab": {
          "base_uri": "https://localhost:8080/"
        },
        "id": "lDZC8ifAglPv",
        "outputId": "86c1ca17-45f9-45b1-f039-604d22126760"
      },
      "execution_count": 162,
      "outputs": [
        {
          "output_type": "stream",
          "name": "stdout",
          "text": [
            "[1, 4, 3]\n",
            "[1, 2, 3]\n"
          ]
        }
      ]
    },
    {
      "cell_type": "code",
      "source": [
        "# copy 모듈 사용\n",
        "\n",
        "from copy import copy\n",
        "a = [7,8,9]\n",
        "b = copy(a)\n",
        "print(a)\n",
        "print(b)"
      ],
      "metadata": {
        "colab": {
          "base_uri": "https://localhost:8080/"
        },
        "id": "l8J8VV8cg1on",
        "outputId": "92e64c51-3895-42ac-d02f-e571ebe16707"
      },
      "execution_count": 164,
      "outputs": [
        {
          "output_type": "stream",
          "name": "stdout",
          "text": [
            "[7, 8, 9]\n",
            "[7, 8, 9]\n"
          ]
        }
      ]
    },
    {
      "cell_type": "code",
      "source": [
        "b is a   # 서로 다른 객체"
      ],
      "metadata": {
        "colab": {
          "base_uri": "https://localhost:8080/"
        },
        "id": "iOWqQ_vthO3w",
        "outputId": "09f203a5-3ea3-4540-dde7-2723ae9a79b1"
      },
      "execution_count": 165,
      "outputs": [
        {
          "output_type": "execute_result",
          "data": {
            "text/plain": [
              "False"
            ]
          },
          "metadata": {},
          "execution_count": 165
        }
      ]
    },
    {
      "cell_type": "code",
      "source": [
        "# 변수를 만드는 여러가지 방법\n",
        "\n",
        "a, b = ('phthon', 'life')\n",
        "type(a)"
      ],
      "metadata": {
        "colab": {
          "base_uri": "https://localhost:8080/"
        },
        "id": "rtUw3X6NhWNf",
        "outputId": "f5eb6458-cca8-4968-ce37-00ee95619ac0"
      },
      "execution_count": 172,
      "outputs": [
        {
          "output_type": "execute_result",
          "data": {
            "text/plain": [
              "str"
            ]
          },
          "metadata": {},
          "execution_count": 172
        }
      ]
    },
    {
      "cell_type": "code",
      "source": [
        "# 연습문제 풀이\n",
        "# 1. 홍길동의 평균점수 구하기\n",
        "a = 80\n",
        "b = 75\n",
        "c = 55\n",
        "result = (a+b+c)/3\n",
        "print(result) "
      ],
      "metadata": {
        "colab": {
          "base_uri": "https://localhost:8080/"
        },
        "id": "7iZl__8vhsEn",
        "outputId": "0adb6926-004f-400d-fa3c-c146fc3ffed4"
      },
      "execution_count": 173,
      "outputs": [
        {
          "output_type": "stream",
          "name": "stdout",
          "text": [
            "70.0\n"
          ]
        }
      ]
    },
    {
      "cell_type": "code",
      "source": [
        "# 2. 자연수 13이 홀수인지 짝수 인지\n",
        "print(13 % 2)\n"
      ],
      "metadata": {
        "colab": {
          "base_uri": "https://localhost:8080/"
        },
        "id": "Y56cCaQiijPY",
        "outputId": "df405cf4-cb9a-4d47-b4bf-2497c5576bdf"
      },
      "execution_count": 174,
      "outputs": [
        {
          "output_type": "stream",
          "name": "stdout",
          "text": [
            "1\n"
          ]
        }
      ]
    },
    {
      "cell_type": "code",
      "source": [
        "# 3. 주민번호를 연월일과 그 뒤 숫자부분으로 나누어 출력\n",
        "pin = \"881120-10668234\"\n",
        "yymmdd = pin[:6]\n",
        "num = pin[7:]\n",
        "print(yymmdd)\n",
        "print(num) "
      ],
      "metadata": {
        "colab": {
          "base_uri": "https://localhost:8080/"
        },
        "id": "6NzOAW92i2fX",
        "outputId": "38bb0bda-2859-41bb-9da3-0c7da9f7ad9c"
      },
      "execution_count": 175,
      "outputs": [
        {
          "output_type": "stream",
          "name": "stdout",
          "text": [
            "881120\n",
            "10668234\n"
          ]
        }
      ]
    },
    {
      "cell_type": "code",
      "source": [
        "# 4. 주민번호에서 성별구분하기\n",
        "pin = \"881120-10668234\"\n",
        "print(pin[7])"
      ],
      "metadata": {
        "colab": {
          "base_uri": "https://localhost:8080/"
        },
        "id": "MOL2sLSXjZVQ",
        "outputId": "99cf37fe-cacd-409f-f2e4-6bca27efd92c"
      },
      "execution_count": 176,
      "outputs": [
        {
          "output_type": "stream",
          "name": "stdout",
          "text": [
            "1\n"
          ]
        }
      ]
    },
    {
      "cell_type": "code",
      "source": [
        "# 5. 문자열 a:b:c:d를 a#b#c#d로 바꾸어 출력\n",
        "a = \"a:b:c:d\"\n",
        "b = a.replace(\":\",\"#\")\n",
        "print(b)"
      ],
      "metadata": {
        "colab": {
          "base_uri": "https://localhost:8080/"
        },
        "id": "V6elaiobjrOQ",
        "outputId": "24b5b67b-e49b-495c-f6c1-704b59d99704"
      },
      "execution_count": 177,
      "outputs": [
        {
          "output_type": "stream",
          "name": "stdout",
          "text": [
            "a#b#c#d\n"
          ]
        }
      ]
    },
    {
      "cell_type": "code",
      "source": [
        "# 6. 리스트를 거꾸로 표현  [1,3,5,4,2] 를 [5,4,3,2,1]로\n",
        "a = [1,3,5,4,2]\n",
        "a.sort()\n",
        "a.reverse()\n",
        "print(a)"
      ],
      "metadata": {
        "colab": {
          "base_uri": "https://localhost:8080/"
        },
        "id": "O2SZ4JLbj74x",
        "outputId": "0ce399b5-4990-41d1-a8f6-95cb351ac969"
      },
      "execution_count": 178,
      "outputs": [
        {
          "output_type": "stream",
          "name": "stdout",
          "text": [
            "[5, 4, 3, 2, 1]\n"
          ]
        }
      ]
    },
    {
      "cell_type": "code",
      "source": [
        "# 7. 리스트의 문자를 문자열로 만들어 출력\n",
        "a = ['Life', 'is', 'too', 'short']\n",
        "result = \" \".join(a)   # 리스트 a의 각 단어들을 한문장으로 조립할때 단어들 사이마다 공백을 넣어 주어야 한다.\n",
        "print(result)"
      ],
      "metadata": {
        "colab": {
          "base_uri": "https://localhost:8080/"
        },
        "id": "0XhLzEbxkNdI",
        "outputId": "a8897d20-2642-4fdb-9663-890ba181d63d"
      },
      "execution_count": 179,
      "outputs": [
        {
          "output_type": "stream",
          "name": "stdout",
          "text": [
            "Life is too short\n"
          ]
        }
      ]
    },
    {
      "cell_type": "code",
      "source": [
        "# 8. 튜플에 값 추가하기\n",
        "a = (1,2,3)\n",
        "a = a + (4,)\n",
        "print(a)"
      ],
      "metadata": {
        "colab": {
          "base_uri": "https://localhost:8080/"
        },
        "id": "v6lkYVVUkpD_",
        "outputId": "98b039b3-0856-4b30-9ada-5bc40a9c73cd"
      },
      "execution_count": 181,
      "outputs": [
        {
          "output_type": "stream",
          "name": "stdout",
          "text": [
            "(1, 2, 3, 4)\n"
          ]
        }
      ]
    },
    {
      "cell_type": "code",
      "source": [
        "# 9. a 리스트에서 중복 숫자 제거\n",
        "a = [1,1,1,2,2,3,3,3,4,4,5]\n",
        "aSet = set(a)   #a 리스트를 집합자료형으로 전환\n",
        "b = list(aSet)\n",
        "print(b)"
      ],
      "metadata": {
        "colab": {
          "base_uri": "https://localhost:8080/"
        },
        "id": "_Xa0Llkfkzce",
        "outputId": "790f15c5-2bf5-4235-b869-fdd79e1365c3"
      },
      "execution_count": 182,
      "outputs": [
        {
          "output_type": "stream",
          "name": "stdout",
          "text": [
            "[1, 2, 3, 4, 5]\n"
          ]
        }
      ]
    },
    {
      "cell_type": "code",
      "source": [
        ""
      ],
      "metadata": {
        "id": "vArCgmUBlYZg"
      },
      "execution_count": null,
      "outputs": []
    }
  ]
}