{
  "nbformat": 4,
  "nbformat_minor": 0,
  "metadata": {
    "colab": {
      "name": "ch3. 제어문.pynb",
      "provenance": [],
      "toc_visible": true,
      "authorship_tag": "ABX9TyNtV9aHQRF1JoB1BXLOykOI",
      "include_colab_link": true
    },
    "kernelspec": {
      "name": "python3",
      "display_name": "Python 3"
    },
    "language_info": {
      "name": "python"
    }
  },
  "cells": [
    {
      "cell_type": "markdown",
      "metadata": {
        "id": "view-in-github",
        "colab_type": "text"
      },
      "source": [
        "<a href=\"https://colab.research.google.com/github/sejii93/Jump-to-python/blob/main/ch3_%EC%A0%9C%EC%96%B4%EB%AC%B8_pynb.ipynb\" target=\"_parent\"><img src=\"https://colab.research.google.com/assets/colab-badge.svg\" alt=\"Open In Colab\"/></a>"
      ]
    },
    {
      "cell_type": "markdown",
      "source": [
        "# 조건문"
      ],
      "metadata": {
        "id": "SO_UD8PZDnPk"
      }
    },
    {
      "cell_type": "code",
      "source": [
        "\n",
        "pocket = ['paper', 'money', 'cellphone']\n",
        "if 'coin' in pocket:\n",
        "   pass     #아무것도 하지 않음\n",
        "else:\n",
        "   print(\"카드를 꺼내라\")"
      ],
      "metadata": {
        "colab": {
          "base_uri": "https://localhost:8080/"
        },
        "id": "YLnrXJqGD0ck",
        "outputId": "a600d68a-6778-4bf9-9fba-9d8867579bb6"
      },
      "execution_count": 2,
      "outputs": [
        {
          "output_type": "stream",
          "name": "stdout",
          "text": [
            "카드를 꺼내라\n"
          ]
        }
      ]
    },
    {
      "cell_type": "code",
      "source": [
        "pocket = ['paper', 'cellphone']\n",
        "card = True\n",
        "if 'money' in pocket:\n",
        "   print('택시를 타고 가라')\n",
        "elif card:\n",
        "   print('버스를 타고 가라')\n",
        "else:\n",
        "   print('걸어가라')"
      ],
      "metadata": {
        "colab": {
          "base_uri": "https://localhost:8080/"
        },
        "id": "uBaFCg59EE0Y",
        "outputId": "efabe324-8540-4148-ff85-295b87233377"
      },
      "execution_count": 5,
      "outputs": [
        {
          "output_type": "stream",
          "name": "stdout",
          "text": [
            "버스를 타고 가라\n"
          ]
        }
      ]
    },
    {
      "cell_type": "code",
      "source": [
        " pocket = ['paper', 'money', 'cellphone']\n",
        "if 'money' in pocket: pass\n",
        "else: print(\"카드를 꺼내라\")"
      ],
      "metadata": {
        "id": "eKph8_gkFLFB"
      },
      "execution_count": 6,
      "outputs": []
    },
    {
      "cell_type": "code",
      "source": [
        "score = int(input(\"점수를 입력하시오: \"))\n",
        "message = 'success' if score >= 60 else 'failure'\n",
        "print(message)"
      ],
      "metadata": {
        "colab": {
          "base_uri": "https://localhost:8080/"
        },
        "id": "F8RbmdckFXxW",
        "outputId": "16f55ecc-a1fa-42b0-f937-e2c1661cf9aa"
      },
      "execution_count": 11,
      "outputs": [
        {
          "output_type": "stream",
          "name": "stdout",
          "text": [
            "점수를 입력하시오: 89\n",
            "success\n"
          ]
        }
      ]
    },
    {
      "cell_type": "markdown",
      "source": [
        "while 문 : 반복해서 문장을 수행해야 하는 경우"
      ],
      "metadata": {
        "id": "TN5GwSkmGEpW"
      }
    },
    {
      "cell_type": "code",
      "source": [
        "#나무를 열번 찍기\n",
        "\n",
        "treeHit = 0\n",
        "while treeHit <10 :\n",
        "  treeHit = treeHit + 1  \n",
        "  print (\"나무를 %d번 찍었습니다.\" %treeHit)\n",
        "  if treeHit == 10:\n",
        "    print(\"나무가 넘어갑니다\")"
      ],
      "metadata": {
        "colab": {
          "base_uri": "https://localhost:8080/"
        },
        "id": "Mw8AaVymFtL2",
        "outputId": "9d29df39-e5a8-421c-8633-dcd631df70d1"
      },
      "execution_count": 12,
      "outputs": [
        {
          "output_type": "stream",
          "name": "stdout",
          "text": [
            "나무를 1번 찍었습니다.\n",
            "나무를 2번 찍었습니다.\n",
            "나무를 3번 찍었습니다.\n",
            "나무를 4번 찍었습니다.\n",
            "나무를 5번 찍었습니다.\n",
            "나무를 6번 찍었습니다.\n",
            "나무를 7번 찍었습니다.\n",
            "나무를 8번 찍었습니다.\n",
            "나무를 9번 찍었습니다.\n",
            "나무를 10번 찍었습니다.\n",
            "나무가 넘어갑니다\n"
          ]
        }
      ]
    },
    {
      "cell_type": "markdown",
      "source": [
        "for 문 : for 변수 in 리스트(또는 튜플,문자열)"
      ],
      "metadata": {
        "id": "kgM4V7A6HcMK"
      }
    },
    {
      "cell_type": "code",
      "source": [
        "# 합격 불합격 분류\n",
        "\n",
        "marks = [90, 25, 67, 45, 80]\n",
        "number = 0\n",
        "for mark in marks :\n",
        "  number = number + 1\n",
        "  if mark >= 60:\n",
        "    print(\"%d번 학생은 합격입니다\" %number)\n",
        "  else:\n",
        "    print(\"%d번 학생은 불합격입니다.\" %number)"
      ],
      "metadata": {
        "colab": {
          "base_uri": "https://localhost:8080/"
        },
        "id": "V8lytRVDGolv",
        "outputId": "cb33f487-cd1a-4703-e1be-794e0a4d8138"
      },
      "execution_count": 14,
      "outputs": [
        {
          "output_type": "stream",
          "name": "stdout",
          "text": [
            "1번 학생은 합격입니다\n",
            "2번 학생은 불합격입니다.\n",
            "3번 학생은 합격입니다\n",
            "4번 학생은 불합격입니다.\n",
            "5번 학생은 합격입니다\n"
          ]
        }
      ]
    },
    {
      "cell_type": "code",
      "source": [
        "# for 문과 contincu문\n",
        "\n",
        "marks = [90, 25, 67, 45, 80]\n",
        "number = 0\n",
        "for mark in marks :\n",
        "  number = number + 1\n",
        "  if mark < 60: continue    # 점수가 60점 미만인 학생은 mark < 60이 참이 되어 continue문이 수행되어, for문의 처음으로 돌아간다\n",
        "  print(\"%d번 학생 축하합니다. 합격입니다.\" %number)"
      ],
      "metadata": {
        "colab": {
          "base_uri": "https://localhost:8080/"
        },
        "id": "dU_5wqcPINrk",
        "outputId": "e6aa5576-a52d-4440-adda-3b3c0834cd9a"
      },
      "execution_count": 15,
      "outputs": [
        {
          "output_type": "stream",
          "name": "stdout",
          "text": [
            "1번 학생 축하합니다. 합격입니다.\n",
            "3번 학생 축하합니다. 합격입니다.\n",
            "5번 학생 축하합니다. 합격입니다.\n"
          ]
        }
      ]
    },
    {
      "cell_type": "code",
      "source": [
        "# for문과 ,range\n",
        "\n",
        "a = range(10)    # range는 리스트를 자동으로 만들어 준다\n",
        "b = range(1,11)  # 시작과 끝을 지정, 끝의 숫자는 불포함\n",
        "print(a,b)\n",
        "print(len(a))\n",
        "print(len(b))"
      ],
      "metadata": {
        "colab": {
          "base_uri": "https://localhost:8080/"
        },
        "id": "G6ptPF-gJMes",
        "outputId": "4a72f3c8-0814-49d3-b1c7-ca11d6ced2ec"
      },
      "execution_count": 25,
      "outputs": [
        {
          "output_type": "stream",
          "name": "stdout",
          "text": [
            "range(0, 10) range(1, 11)\n",
            "10\n",
            "10\n"
          ]
        }
      ]
    },
    {
      "cell_type": "code",
      "source": [
        "add = 0 \n",
        "for i in range(1,11) :\n",
        "  add = add + i\n",
        "\n",
        "print(add)"
      ],
      "metadata": {
        "colab": {
          "base_uri": "https://localhost:8080/"
        },
        "id": "AlYryv15JdcJ",
        "outputId": "521b5db1-1691-4619-9682-8153c916c263"
      },
      "execution_count": 27,
      "outputs": [
        {
          "output_type": "stream",
          "name": "stdout",
          "text": [
            "55\n"
          ]
        }
      ]
    },
    {
      "cell_type": "code",
      "source": [
        "mark = [90, 25, 67, 45, 80]\n",
        "for number in range(len(mark)) :\n",
        "  if mark[number] < 60: continue\n",
        "  print(\"%d번 학생 축하합니다. 합격입니다.\" %(number+1))"
      ],
      "metadata": {
        "colab": {
          "base_uri": "https://localhost:8080/"
        },
        "id": "hRXo3LV1KH3Q",
        "outputId": "0271cebd-4e03-41cc-f615-63c1794a9dac"
      },
      "execution_count": 30,
      "outputs": [
        {
          "output_type": "stream",
          "name": "stdout",
          "text": [
            "1번 학생 축하합니다. 합격입니다.\n",
            "3번 학생 축하합니다. 합격입니다.\n",
            "5번 학생 축하합니다. 합격입니다.\n"
          ]
        }
      ]
    },
    {
      "cell_type": "code",
      "source": [
        "# 구구단\n",
        "\n",
        "for i  in range(2,10) :\n",
        "  for j in range (1,10) :\n",
        "    print (i*j, end=\" \")   # 매개변수 end를 넣어준 이유는 해당 결과값을 출력할 때 다음 줄로 넘기지 않고 그 줄에 계속하기 출력하기 위해\n",
        "  print(' ')    # 2단, 3단 등을 구분하기 위해"
      ],
      "metadata": {
        "colab": {
          "base_uri": "https://localhost:8080/"
        },
        "id": "YFGL3BlNKntZ",
        "outputId": "5ea3a644-0892-4e75-a6bd-8be99720142a"
      },
      "execution_count": 32,
      "outputs": [
        {
          "output_type": "stream",
          "name": "stdout",
          "text": [
            "2 4 6 8 10 12 14 16 18  \n",
            "3 6 9 12 15 18 21 24 27  \n",
            "4 8 12 16 20 24 28 32 36  \n",
            "5 10 15 20 25 30 35 40 45  \n",
            "6 12 18 24 30 36 42 48 54  \n",
            "7 14 21 28 35 42 49 56 63  \n",
            "8 16 24 32 40 48 56 64 72  \n",
            "9 18 27 36 45 54 63 72 81  \n"
          ]
        }
      ]
    },
    {
      "cell_type": "code",
      "source": [
        "# 리스트 각 원소에 3을 곱하여 새로운 리스트를 만들기\n",
        "a = [1,2,3,4]\n",
        "result = []\n",
        "for num in a:\n",
        "  result.append(num*3)\n",
        "\n",
        "print(result) "
      ],
      "metadata": {
        "colab": {
          "base_uri": "https://localhost:8080/"
        },
        "id": "BQgs2lgVLDG2",
        "outputId": "555e5969-eb61-42fb-8325-83bfb888b2dc"
      },
      "execution_count": 33,
      "outputs": [
        {
          "output_type": "stream",
          "name": "stdout",
          "text": [
            "[3, 6, 9, 12]\n"
          ]
        }
      ]
    },
    {
      "cell_type": "code",
      "source": [
        "# 더 줄여서\n",
        "\n",
        "a = [1,2,3,4]\n",
        "result = [num * 3 for num in a]\n",
        "\n",
        "print(result) \n"
      ],
      "metadata": {
        "colab": {
          "base_uri": "https://localhost:8080/"
        },
        "id": "M1SHVnABLtYC",
        "outputId": "74873893-2c20-48eb-ec70-ba4bc69a5a13"
      },
      "execution_count": 34,
      "outputs": [
        {
          "output_type": "stream",
          "name": "stdout",
          "text": [
            "[3, 6, 9, 12]\n"
          ]
        }
      ]
    },
    {
      "cell_type": "code",
      "source": [
        "# 짝수에만 3일 곱하기\n",
        "\n",
        "a = [1,2,3,4]\n",
        "result = [num * 3 for num in a if num %2 == 0]\n",
        "print(result) "
      ],
      "metadata": {
        "colab": {
          "base_uri": "https://localhost:8080/"
        },
        "id": "78KmXCrOMFu5",
        "outputId": "303a08ce-7a60-4bae-d3c0-b08a39ee3309"
      },
      "execution_count": 35,
      "outputs": [
        {
          "output_type": "stream",
          "name": "stdout",
          "text": [
            "[6, 12]\n"
          ]
        }
      ]
    },
    {
      "cell_type": "code",
      "source": [
        "# 연습문제\n",
        "\n",
        "result = 0\n",
        "i = 1\n",
        "while i <= 1000 :\n",
        "  if i % 3 == 0 : \n",
        "    result =  result + i    # result += i  와 동일\n",
        "  i = i + 1   # i += 1 과 동일\n",
        "\n",
        "print(result)"
      ],
      "metadata": {
        "colab": {
          "base_uri": "https://localhost:8080/"
        },
        "id": "oyvnq5gGNE3Q",
        "outputId": "7f59733e-29e2-48f8-fd00-eed6a28fb915"
      },
      "execution_count": 41,
      "outputs": [
        {
          "output_type": "stream",
          "name": "stdout",
          "text": [
            "166833\n"
          ]
        }
      ]
    },
    {
      "cell_type": "code",
      "source": [
        "# * 모양\n",
        "\n",
        "i = 0\n",
        "while True : \n",
        "  i += 1\n",
        "  if i > 5 : break\n",
        "  print ('*' * i)"
      ],
      "metadata": {
        "colab": {
          "base_uri": "https://localhost:8080/"
        },
        "id": "v_ZtUBznNydi",
        "outputId": "3b4aa4dd-b50f-4cc9-d6e9-e667691f63aa"
      },
      "execution_count": 42,
      "outputs": [
        {
          "output_type": "stream",
          "name": "stdout",
          "text": [
            "*\n",
            "**\n",
            "***\n",
            "****\n",
            "*****\n"
          ]
        }
      ]
    },
    {
      "cell_type": "code",
      "source": [
        "# for 문을 사용하여 1부터 100까지의 숫자 출력\n",
        "\n",
        "for i in range(1,101):\n",
        "  print(i)"
      ],
      "metadata": {
        "colab": {
          "base_uri": "https://localhost:8080/"
        },
        "id": "eA5AKH0YOlfD",
        "outputId": "393f9d6a-ebdc-43aa-9ce5-a426d7c92552"
      },
      "execution_count": 45,
      "outputs": [
        {
          "output_type": "stream",
          "name": "stdout",
          "text": [
            "1\n",
            "2\n",
            "3\n",
            "4\n",
            "5\n",
            "6\n",
            "7\n",
            "8\n",
            "9\n",
            "10\n",
            "11\n",
            "12\n",
            "13\n",
            "14\n",
            "15\n",
            "16\n",
            "17\n",
            "18\n",
            "19\n",
            "20\n",
            "21\n",
            "22\n",
            "23\n",
            "24\n",
            "25\n",
            "26\n",
            "27\n",
            "28\n",
            "29\n",
            "30\n",
            "31\n",
            "32\n",
            "33\n",
            "34\n",
            "35\n",
            "36\n",
            "37\n",
            "38\n",
            "39\n",
            "40\n",
            "41\n",
            "42\n",
            "43\n",
            "44\n",
            "45\n",
            "46\n",
            "47\n",
            "48\n",
            "49\n",
            "50\n",
            "51\n",
            "52\n",
            "53\n",
            "54\n",
            "55\n",
            "56\n",
            "57\n",
            "58\n",
            "59\n",
            "60\n",
            "61\n",
            "62\n",
            "63\n",
            "64\n",
            "65\n",
            "66\n",
            "67\n",
            "68\n",
            "69\n",
            "70\n",
            "71\n",
            "72\n",
            "73\n",
            "74\n",
            "75\n",
            "76\n",
            "77\n",
            "78\n",
            "79\n",
            "80\n",
            "81\n",
            "82\n",
            "83\n",
            "84\n",
            "85\n",
            "86\n",
            "87\n",
            "88\n",
            "89\n",
            "90\n",
            "91\n",
            "92\n",
            "93\n",
            "94\n",
            "95\n",
            "96\n",
            "97\n",
            "98\n",
            "99\n",
            "100\n"
          ]
        }
      ]
    },
    {
      "cell_type": "code",
      "source": [
        "# for 문을 이용하여 A학급의 평균 점수를 보자\n",
        "\n",
        "A = [70,60,55,75,95,90,80,80,85,100]\n",
        "total = 0\n",
        "for score in A :\n",
        "  total += score\n",
        "average = total / len(A)\n",
        "print(average)"
      ],
      "metadata": {
        "colab": {
          "base_uri": "https://localhost:8080/"
        },
        "id": "dx9C3tIZOwQK",
        "outputId": "155d7a73-c046-46eb-967f-1db00842ea48"
      },
      "execution_count": 47,
      "outputs": [
        {
          "output_type": "stream",
          "name": "stdout",
          "text": [
            "79.0\n"
          ]
        }
      ]
    },
    {
      "cell_type": "code",
      "source": [
        "# 홀수에만 2를 곱하여 저장\n",
        "\n",
        "numbers = [1,2,3,4,5]\n",
        " \n",
        "result = []\n",
        "for n in numbers:\n",
        "  if n % 2 == 1 :\n",
        "    result.append(n*2) \n",
        "print(result)"
      ],
      "metadata": {
        "colab": {
          "base_uri": "https://localhost:8080/"
        },
        "id": "5edNXbo2PRzd",
        "outputId": "8937ea85-08d1-4230-d2d0-fd131bf9b38b"
      },
      "execution_count": 49,
      "outputs": [
        {
          "output_type": "stream",
          "name": "stdout",
          "text": [
            "[2, 6, 10]\n"
          ]
        }
      ]
    },
    {
      "cell_type": "code",
      "source": [
        "# 위 코드를 리스트 내포(list comprehension)를 사용하여 표현\n",
        "\n",
        "numbers = [1,2,3,4,5]\n",
        "result = [n*2 for n in numbers if n%2==1]\n",
        "print(result)\n",
        " "
      ],
      "metadata": {
        "colab": {
          "base_uri": "https://localhost:8080/"
        },
        "id": "KwiMR9KhPwI7",
        "outputId": "58933710-4488-4b75-e7b2-92d31a6e7c0e"
      },
      "execution_count": 50,
      "outputs": [
        {
          "output_type": "stream",
          "name": "stdout",
          "text": [
            "[2, 6, 10]\n"
          ]
        }
      ]
    },
    {
      "cell_type": "code",
      "source": [
        ""
      ],
      "metadata": {
        "id": "9sHM8f8SQJxU"
      },
      "execution_count": null,
      "outputs": []
    }
  ]
}