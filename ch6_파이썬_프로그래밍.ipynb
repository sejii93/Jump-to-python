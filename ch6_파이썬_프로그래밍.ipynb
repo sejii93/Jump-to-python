{
  "nbformat": 4,
  "nbformat_minor": 0,
  "metadata": {
    "colab": {
      "name": "ch6.파이썬 프로그래밍.ipynb",
      "provenance": [],
      "authorship_tag": "ABX9TyOuSZJDnDdVKXjcYljHHgcw",
      "include_colab_link": true
    },
    "kernelspec": {
      "name": "python3",
      "display_name": "Python 3"
    },
    "language_info": {
      "name": "python"
    }
  },
  "cells": [
    {
      "cell_type": "markdown",
      "metadata": {
        "id": "view-in-github",
        "colab_type": "text"
      },
      "source": [
        "<a href=\"https://colab.research.google.com/github/sejii93/Jump-to-python/blob/main/ch6_%ED%8C%8C%EC%9D%B4%EC%8D%AC_%ED%94%84%EB%A1%9C%EA%B7%B8%EB%9E%98%EB%B0%8D.ipynb\" target=\"_parent\"><img src=\"https://colab.research.google.com/assets/colab-badge.svg\" alt=\"Open In Colab\"/></a>"
      ]
    },
    {
      "cell_type": "code",
      "execution_count": 4,
      "metadata": {
        "colab": {
          "base_uri": "https://localhost:8080/"
        },
        "id": "_pDocYrcxBOr",
        "outputId": "3171c5de-3aa8-4581-a20a-2ef9df81bb1b"
      },
      "outputs": [
        {
          "output_type": "stream",
          "name": "stdout",
          "text": [
            "[2, 4, 6, 8, 10, 12, 14, 16, 18]\n"
          ]
        }
      ],
      "source": [
        "# 구구단\n",
        "\n",
        "def GuGu(n):\n",
        "  result = []\n",
        "  result.append(n*1)\n",
        "  result.append(n*2)\n",
        "  result.append(n*3)\n",
        "  result.append(n*4)\n",
        "  result.append(n*5)\n",
        "  result.append(n*6)\n",
        "  result.append(n*7)\n",
        "  result.append(n*8)\n",
        "  result.append(n*9)\n",
        "  return result\n",
        "  \n",
        "print(GuGu(2))"
      ]
    },
    {
      "cell_type": "code",
      "source": [
        "def GuGu(n):\n",
        "    result = []\n",
        "    i = 1\n",
        "    while i < 10:\n",
        "        result.append(n*i)\n",
        "        i = i + 1\n",
        "    return result\n",
        "\n",
        "print(GuGu(3))"
      ],
      "metadata": {
        "colab": {
          "base_uri": "https://localhost:8080/"
        },
        "id": "KqdCo9dQxavg",
        "outputId": "b1b809f0-4bf5-4736-ee71-cf21e50a8e71"
      },
      "execution_count": 10,
      "outputs": [
        {
          "output_type": "stream",
          "name": "stdout",
          "text": [
            "[3, 6, 9, 12, 15, 18, 21, 24, 27]\n"
          ]
        }
      ]
    },
    {
      "cell_type": "code",
      "source": [
        "# 3과 5의 배수 합하기\n",
        "\n",
        "result = 0\n",
        "for n in range(1,1000):\n",
        "    if n % 3 == 0 or n % 5 == 0:\n",
        "      result += n\n",
        "        \n",
        "print(result)"
      ],
      "metadata": {
        "colab": {
          "base_uri": "https://localhost:8080/"
        },
        "id": "dwKWE64XyX22",
        "outputId": "9391da46-b269-43e0-fda1-081e2b4720a6"
      },
      "execution_count": 13,
      "outputs": [
        {
          "output_type": "stream",
          "name": "stdout",
          "text": [
            "233168\n"
          ]
        }
      ]
    },
    {
      "cell_type": "code",
      "source": [
        "# 페이징: 한페이지에 몇 개의 페이지가 필요하냐\n",
        "\n",
        "def getTotalPage(m,n):\n",
        "    if m % n == 0:\n",
        "      return m//n\n",
        "    else: \n",
        "      return m//n  + 1"
      ],
      "metadata": {
        "id": "iabCVexCz5RA"
      },
      "execution_count": null,
      "outputs": []
    },
    {
      "cell_type": "code",
      "source": [
        "# 간단한 메모장 만들기\n",
        "\n"
      ],
      "metadata": {
        "id": "jRMIakhs1E4p"
      },
      "execution_count": null,
      "outputs": []
    }
  ]
}