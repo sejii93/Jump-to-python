{
  "nbformat": 4,
  "nbformat_minor": 0,
  "metadata": {
    "colab": {
      "name": "ch5. 날개달기.ipynb",
      "provenance": [],
      "toc_visible": true,
      "authorship_tag": "ABX9TyParrF3HARUyTHFvnNtqc4y",
      "include_colab_link": true
    },
    "kernelspec": {
      "name": "python3",
      "display_name": "Python 3"
    },
    "language_info": {
      "name": "python"
    }
  },
  "cells": [
    {
      "cell_type": "markdown",
      "metadata": {
        "id": "view-in-github",
        "colab_type": "text"
      },
      "source": [
        "<a href=\"https://colab.research.google.com/github/sejii93/Jump-to-python/blob/main/ch5_%EB%82%A0%EA%B0%9C%EB%8B%AC%EA%B8%B0.ipynb\" target=\"_parent\"><img src=\"https://colab.research.google.com/assets/colab-badge.svg\" alt=\"Open In Colab\"/></a>"
      ]
    },
    {
      "cell_type": "markdown",
      "source": [
        "1. 클래스 "
      ],
      "metadata": {
        "id": "t_ExJ7JbQ4_P"
      }
    },
    {
      "cell_type": "code",
      "source": [
        "class Calculator:\n",
        "  def __init__(self):   # 최초 만들어질 때 설정값\n",
        "    self.result = 0     # self는 뒤에서 자세히 설명\n",
        "\n",
        "  def add(self, num):\n",
        "    self.result += num\n",
        "    return self.result\n",
        "\n",
        "cal1 = Calculator()\n",
        "cal2 = Calculator()"
      ],
      "metadata": {
        "id": "JnhDKiMERA2S"
      },
      "execution_count": 1,
      "outputs": []
    },
    {
      "cell_type": "code",
      "source": [
        "print(cal1.add(3))\n",
        "print(cal1.add(4))\n",
        "print(cal2.add(3))\n",
        "print(cal2.add(7))"
      ],
      "metadata": {
        "colab": {
          "base_uri": "https://localhost:8080/"
        },
        "id": "hpg-ShhqR_r3",
        "outputId": "fb925d3e-9a4f-4a7a-d580-be00c48ec60b"
      },
      "execution_count": 2,
      "outputs": [
        {
          "output_type": "stream",
          "name": "stdout",
          "text": [
            "3\n",
            "7\n",
            "3\n",
            "10\n"
          ]
        }
      ]
    },
    {
      "cell_type": "code",
      "source": [
        "# 빼기 기능\n",
        "def sub(self, num):\n",
        "  self.result -= num\n",
        "  return self.result"
      ],
      "metadata": {
        "id": "qleaNW2zSd5c"
      },
      "execution_count": 3,
      "outputs": []
    },
    {
      "cell_type": "code",
      "source": [
        "class FourCal:\n",
        "  def __init__(self, first, second): # init 예약어\n",
        "    self.first = first\n",
        "    self.second = second   \n",
        "  def setdata(self, first, second):\n",
        "    self.first = first\n",
        "    self.second = second\n",
        "\n",
        "  def add(self):\n",
        "    result = self.first + self.second\n",
        "    return result\n",
        "  \n",
        "a = FourCal(1,2)"
      ],
      "metadata": {
        "colab": {
          "base_uri": "https://localhost:8080/"
        },
        "id": "mj5ld_QYWDqn",
        "outputId": "8bbfeff0-d3a3-4a7a-b77d-8848f5b77fc4"
      },
      "execution_count": 12,
      "outputs": [
        {
          "output_type": "stream",
          "name": "stdout",
          "text": [
            "1\n"
          ]
        }
      ]
    },
    {
      "cell_type": "code",
      "source": [
        "# 상속\n",
        "\n",
        "class FourCal:\n",
        "  def __init__(self, first, second): # init 예약어\n",
        "    self.first = first\n",
        "    self.second = second   \n",
        "  def setdata(self, first, second):\n",
        "    self.first = first\n",
        "    self.second = second\n",
        "\n",
        "  def add(self):\n",
        "    result = self.first + self.second\n",
        "    return result\n",
        "\n",
        "class MoreFourcal(FourCal):\n",
        "  def pow(self):\n",
        "    result = self.first **self.second\n",
        "    return result \n",
        "  "
      ],
      "metadata": {
        "id": "EA4zwBnAY4VJ"
      },
      "execution_count": null,
      "outputs": []
    },
    {
      "cell_type": "markdown",
      "source": [
        "2. 모듈"
      ],
      "metadata": {
        "id": "8FCdUnPORBf-"
      }
    },
    {
      "cell_type": "code",
      "source": [
        ""
      ],
      "metadata": {
        "id": "S71W4KLoRHdy"
      },
      "execution_count": null,
      "outputs": []
    },
    {
      "cell_type": "markdown",
      "source": [
        "3. 패키지"
      ],
      "metadata": {
        "id": "0FX3IwVZRIFz"
      }
    },
    {
      "cell_type": "code",
      "source": [
        ""
      ],
      "metadata": {
        "id": "u6XjxEnJRLKs"
      },
      "execution_count": null,
      "outputs": []
    },
    {
      "cell_type": "markdown",
      "source": [
        "4. *에외처리*\n",
        "\n",
        "try: # 오류가 발생할 수 있는 구문\n",
        "except Exceptions as e : # 오류발생\n",
        "\n",
        "else: # 오류가 발생하지 않음\n",
        "\n",
        "finally # 무조건 마지막에 실행"
      ],
      "metadata": {
        "id": "ve6FOu9XRL6c"
      }
    },
    {
      "cell_type": "code",
      "source": [
        "try:\n",
        "  4/0\n",
        "\n",
        "except ZeroDivisionError as e:\n",
        "  print(e)"
      ],
      "metadata": {
        "colab": {
          "base_uri": "https://localhost:8080/"
        },
        "id": "5_02PaEsRPfk",
        "outputId": "f860e374-933c-4fb8-982d-5b040dac9c0f"
      },
      "execution_count": 16,
      "outputs": [
        {
          "output_type": "stream",
          "name": "stdout",
          "text": [
            "division by zero\n"
          ]
        }
      ]
    },
    {
      "cell_type": "code",
      "source": [
        "try:\n",
        "  f = open('none', 'r')\n",
        "except FileNotFoundError as e:\n",
        "  print(str(e))\n",
        "else:\n",
        "  data = f.read()\n",
        "  print(data)\n",
        "finally:\n",
        "  f.close()"
      ],
      "metadata": {
        "colab": {
          "base_uri": "https://localhost:8080/"
        },
        "id": "3k5k_K1fevgS",
        "outputId": "325c53df-f8fe-4552-bcb9-eded6a6a1ba9"
      },
      "execution_count": 18,
      "outputs": [
        {
          "output_type": "stream",
          "name": "stdout",
          "text": [
            "[Errno 2] No such file or directory: 'none'\n"
          ]
        }
      ]
    },
    {
      "cell_type": "markdown",
      "source": [
        "5. 내장함수"
      ],
      "metadata": {
        "id": "av_M5WmlRP8w"
      }
    },
    {
      "cell_type": "code",
      "source": [
        "#abs 절대값\n",
        "print(abs(-1.2))"
      ],
      "metadata": {
        "colab": {
          "base_uri": "https://localhost:8080/"
        },
        "id": "niV718fFRS6k",
        "outputId": "efbb62be-aa83-4e9e-b1be-5a4c49687969"
      },
      "execution_count": 21,
      "outputs": [
        {
          "output_type": "stream",
          "name": "stdout",
          "text": [
            "1.2\n"
          ]
        }
      ]
    },
    {
      "cell_type": "code",
      "source": [
        "# all : 모든 참인지 검사\n",
        "all([1,2,3,0])  # 0 이 있기 때문에 false"
      ],
      "metadata": {
        "colab": {
          "base_uri": "https://localhost:8080/"
        },
        "id": "CaEsieEagg1N",
        "outputId": "823c269d-3d3d-460d-88b4-a3a9bcc038f8"
      },
      "execution_count": 23,
      "outputs": [
        {
          "output_type": "execute_result",
          "data": {
            "text/plain": [
              "False"
            ]
          },
          "metadata": {},
          "execution_count": 23
        }
      ]
    },
    {
      "cell_type": "code",
      "source": [
        "# any : 하나라도 참이 있는가\n",
        "any([1,2,3,0])"
      ],
      "metadata": {
        "colab": {
          "base_uri": "https://localhost:8080/"
        },
        "id": "aTMhegYwgwTP",
        "outputId": "7bcd55e0-ab03-481a-e6cc-31db1453987f"
      },
      "execution_count": 24,
      "outputs": [
        {
          "output_type": "execute_result",
          "data": {
            "text/plain": [
              "True"
            ]
          },
          "metadata": {},
          "execution_count": 24
        }
      ]
    },
    {
      "cell_type": "code",
      "source": [
        "# chr : 아스키 코드를 입력받으 그 코드에 해당하는 문자를 출력하는 함수\n",
        "# 아스키코드: 0~127 사이의 숫자를 각 문자에 대응\n",
        "chr(97)"
      ],
      "metadata": {
        "colab": {
          "base_uri": "https://localhost:8080/",
          "height": 36
        },
        "id": "g14op2Mkg-Gd",
        "outputId": "229ebfd3-08f1-4f48-ac4d-a876099cb029"
      },
      "execution_count": 27,
      "outputs": [
        {
          "output_type": "execute_result",
          "data": {
            "text/plain": [
              "'a'"
            ],
            "application/vnd.google.colaboratory.intrinsic+json": {
              "type": "string"
            }
          },
          "metadata": {},
          "execution_count": 27
        }
      ]
    },
    {
      "cell_type": "code",
      "source": [
        "# dir : 객체가 자체적으로 가지고 있는 변수나 함수를 보여준다 (명령어의 모음)\n",
        "print(dir([1,2,3]))"
      ],
      "metadata": {
        "colab": {
          "base_uri": "https://localhost:8080/"
        },
        "id": "wc-wGK4dhZ-p",
        "outputId": "aa3df2b4-545b-4aee-8f16-93c5dc30724a"
      },
      "execution_count": 29,
      "outputs": [
        {
          "output_type": "stream",
          "name": "stdout",
          "text": [
            "['__add__', '__class__', '__contains__', '__delattr__', '__delitem__', '__dir__', '__doc__', '__eq__', '__format__', '__ge__', '__getattribute__', '__getitem__', '__gt__', '__hash__', '__iadd__', '__imul__', '__init__', '__init_subclass__', '__iter__', '__le__', '__len__', '__lt__', '__mul__', '__ne__', '__new__', '__reduce__', '__reduce_ex__', '__repr__', '__reversed__', '__rmul__', '__setattr__', '__setitem__', '__sizeof__', '__str__', '__subclasshook__', 'append', 'clear', 'copy', 'count', 'extend', 'index', 'insert', 'pop', 'remove', 'reverse', 'sort']\n"
          ]
        }
      ]
    },
    {
      "cell_type": "code",
      "source": [
        "# divmod : 2개의 숫자를 입력받아 몫과 나머지를 튜플형태로 돌려줌\n",
        "divmod(7,3)"
      ],
      "metadata": {
        "colab": {
          "base_uri": "https://localhost:8080/"
        },
        "id": "ESHDjSUdhyMM",
        "outputId": "c6e17a2a-d1b7-42f9-af24-daa5fe3b68e2"
      },
      "execution_count": 30,
      "outputs": [
        {
          "output_type": "execute_result",
          "data": {
            "text/plain": [
              "(2, 1)"
            ]
          },
          "metadata": {},
          "execution_count": 30
        }
      ]
    },
    {
      "cell_type": "code",
      "source": [
        "# enumerate : 열거하다 (리스트를 딕셔너리처럼 key, value 형태로 보여준다)\n",
        "for i, name in enumerate(['body', 'foo', 'bar']):\n",
        "  print(i, name)"
      ],
      "metadata": {
        "colab": {
          "base_uri": "https://localhost:8080/"
        },
        "id": "-U98GNeXiMw3",
        "outputId": "d1a258f5-e70f-40ee-97f6-6f1c9a9cc056"
      },
      "execution_count": 33,
      "outputs": [
        {
          "output_type": "stream",
          "name": "stdout",
          "text": [
            "0 body\n",
            "1 foo\n",
            "2 bar\n"
          ]
        }
      ]
    },
    {
      "cell_type": "code",
      "source": [
        "# eval : \n",
        "eval ('1+2')"
      ],
      "metadata": {
        "colab": {
          "base_uri": "https://localhost:8080/"
        },
        "id": "gNTH6t9SiMub",
        "outputId": "49d0a09d-e8d5-4e6f-eb0e-f39239d8b076"
      },
      "execution_count": 34,
      "outputs": [
        {
          "output_type": "execute_result",
          "data": {
            "text/plain": [
              "3"
            ]
          },
          "metadata": {},
          "execution_count": 34
        }
      ]
    },
    {
      "cell_type": "code",
      "source": [
        "# filter\n",
        "def positive(x):\n",
        "  return x > 0\n",
        "\n",
        "a = list(filter(positive, [1, -3, 2, 0, -5, 6]))\n",
        "print(a)"
      ],
      "metadata": {
        "colab": {
          "base_uri": "https://localhost:8080/"
        },
        "id": "UoL4hOHEiMro",
        "outputId": "5f41bfd7-c445-45de-d620-55b2f6411acb"
      },
      "execution_count": 35,
      "outputs": [
        {
          "output_type": "stream",
          "name": "stdout",
          "text": [
            "[1, 2, 6]\n"
          ]
        }
      ]
    },
    {
      "cell_type": "code",
      "source": [
        "#hex : 정수값을 입력받아 16진수로 변환\n",
        "hex(234)"
      ],
      "metadata": {
        "colab": {
          "base_uri": "https://localhost:8080/",
          "height": 36
        },
        "id": "B2Z5PVXyiMo4",
        "outputId": "332a157c-490a-4f91-b311-8606521af84f"
      },
      "execution_count": 36,
      "outputs": [
        {
          "output_type": "execute_result",
          "data": {
            "text/plain": [
              "'0xea'"
            ],
            "application/vnd.google.colaboratory.intrinsic+json": {
              "type": "string"
            }
          },
          "metadata": {},
          "execution_count": 36
        }
      ]
    },
    {
      "cell_type": "code",
      "source": [
        "#id : 객체의 고유주소값\n",
        "id(3)"
      ],
      "metadata": {
        "colab": {
          "base_uri": "https://localhost:8080/"
        },
        "id": "obTCRsBXiMl4",
        "outputId": "fe72d18b-6a7b-429b-8c12-69aaf0ab8746"
      },
      "execution_count": 37,
      "outputs": [
        {
          "output_type": "execute_result",
          "data": {
            "text/plain": [
              "94601091181120"
            ]
          },
          "metadata": {},
          "execution_count": 37
        }
      ]
    },
    {
      "cell_type": "code",
      "source": [
        "#input\n",
        "a = input()"
      ],
      "metadata": {
        "colab": {
          "base_uri": "https://localhost:8080/"
        },
        "id": "8bckwEHNiMi4",
        "outputId": "ad915408-3f3f-47e6-e147-891d1192cbb4"
      },
      "execution_count": 38,
      "outputs": [
        {
          "name": "stdout",
          "output_type": "stream",
          "text": [
            "sseo\n"
          ]
        }
      ]
    },
    {
      "cell_type": "code",
      "source": [
        "b = input(\"Enter: \")"
      ],
      "metadata": {
        "colab": {
          "base_uri": "https://localhost:8080/"
        },
        "id": "xd1ifBthiMaw",
        "outputId": "92ed7361-125c-4d54-8acd-dda9f505a35e"
      },
      "execution_count": 39,
      "outputs": [
        {
          "name": "stdout",
          "output_type": "stream",
          "text": [
            "Enter: 4\n"
          ]
        }
      ]
    },
    {
      "cell_type": "code",
      "source": [
        "# int : 문자열 형태의 숫자, 소숫점이 있는 숫자 등을 정수 형태로 돌려줌\n",
        "int('3')"
      ],
      "metadata": {
        "colab": {
          "base_uri": "https://localhost:8080/"
        },
        "id": "3xy-LcXfiMXs",
        "outputId": "b00b26b7-14b0-4117-dd09-5bacd31b8ec0"
      },
      "execution_count": 40,
      "outputs": [
        {
          "output_type": "execute_result",
          "data": {
            "text/plain": [
              "3"
            ]
          },
          "metadata": {},
          "execution_count": 40
        }
      ]
    },
    {
      "cell_type": "code",
      "source": [
        "int(3.4)"
      ],
      "metadata": {
        "colab": {
          "base_uri": "https://localhost:8080/"
        },
        "id": "ActrANmZiMUc",
        "outputId": "a2c9de97-92d2-4d60-d48c-11ddf037da15"
      },
      "execution_count": 41,
      "outputs": [
        {
          "output_type": "execute_result",
          "data": {
            "text/plain": [
              "3"
            ]
          },
          "metadata": {},
          "execution_count": 41
        }
      ]
    },
    {
      "cell_type": "code",
      "source": [
        "int('11',2)"
      ],
      "metadata": {
        "colab": {
          "base_uri": "https://localhost:8080/"
        },
        "id": "Ve7EdwDgiMPc",
        "outputId": "5bd0f0a9-513d-44ca-dadd-2f03c4b2ee6d"
      },
      "execution_count": 43,
      "outputs": [
        {
          "output_type": "execute_result",
          "data": {
            "text/plain": [
              "3"
            ]
          },
          "metadata": {},
          "execution_count": 43
        }
      ]
    },
    {
      "cell_type": "code",
      "source": [
        "int('1A', 16)"
      ],
      "metadata": {
        "colab": {
          "base_uri": "https://localhost:8080/"
        },
        "id": "H3wjtxNBiMHW",
        "outputId": "de96fa8a-aa6e-475f-c214-0b85cbb786cb"
      },
      "execution_count": 44,
      "outputs": [
        {
          "output_type": "execute_result",
          "data": {
            "text/plain": [
              "26"
            ]
          },
          "metadata": {},
          "execution_count": 44
        }
      ]
    },
    {
      "cell_type": "code",
      "source": [
        "#isinstance : 첫번째 인수로 인스턴스, 두번째 인수로 클래스 이름을 받는다 true or false로 돌려준다"
      ],
      "metadata": {
        "id": "3IkkwMQAkPki"
      },
      "execution_count": 47,
      "outputs": []
    },
    {
      "cell_type": "code",
      "source": [
        "#len : 입력값 s의 길이\n",
        "len(\"python\")"
      ],
      "metadata": {
        "colab": {
          "base_uri": "https://localhost:8080/"
        },
        "id": "4jZjMrM0kPhy",
        "outputId": "93248aed-bcb6-4772-e972-d8990bc56c22"
      },
      "execution_count": 48,
      "outputs": [
        {
          "output_type": "execute_result",
          "data": {
            "text/plain": [
              "6"
            ]
          },
          "metadata": {},
          "execution_count": 48
        }
      ]
    },
    {
      "cell_type": "code",
      "source": [
        "#list: 반복가능한 자료형 s를 입력받아 리스트로 만들어 주는 함수\n",
        "list('python')"
      ],
      "metadata": {
        "colab": {
          "base_uri": "https://localhost:8080/"
        },
        "id": "eRto6kHkkPfi",
        "outputId": "d53b1436-c8b8-4b0f-e201-31e47d95480a"
      },
      "execution_count": 49,
      "outputs": [
        {
          "output_type": "execute_result",
          "data": {
            "text/plain": [
              "['p', 'y', 't', 'h', 'o', 'n']"
            ]
          },
          "metadata": {},
          "execution_count": 49
        }
      ]
    },
    {
      "cell_type": "code",
      "source": [
        "#map : 입력받은 자료형의 각 소요를 함수f가 수행한 결과를 돌려준다\n",
        "def two_times(numberList):\n",
        "  result = []\n",
        "  for number in numberList:\n",
        "    result.append(number*2)\n",
        "  return result\n",
        "\n",
        "result = two_times([1,2,3,4])\n",
        "print(result)"
      ],
      "metadata": {
        "colab": {
          "base_uri": "https://localhost:8080/"
        },
        "id": "ZLMkMlLxkPdD",
        "outputId": "c9054f20-ff45-4c9a-a266-c1fa950e958e"
      },
      "execution_count": 50,
      "outputs": [
        {
          "output_type": "stream",
          "name": "stdout",
          "text": [
            "[2, 4, 6, 8]\n"
          ]
        }
      ]
    },
    {
      "cell_type": "code",
      "source": [
        "#위 코딩을 map으로 변경\n",
        "\n",
        "def two_times(x) : return x*2\n",
        "list(map(two_times, [1,2,3,4]))"
      ],
      "metadata": {
        "colab": {
          "base_uri": "https://localhost:8080/"
        },
        "id": "06pAnUGukPa0",
        "outputId": "065a262d-1e6c-4238-e13c-fe9b26814415"
      },
      "execution_count": 51,
      "outputs": [
        {
          "output_type": "execute_result",
          "data": {
            "text/plain": [
              "[2, 4, 6, 8]"
            ]
          },
          "metadata": {},
          "execution_count": 51
        }
      ]
    },
    {
      "cell_type": "code",
      "source": [
        "#max\n",
        "#min\n",
        "#open\n",
        "#pow  : x의 y 제곱값을 돌려주는 함수"
      ],
      "metadata": {
        "id": "BgTQYPUukPYh"
      },
      "execution_count": null,
      "outputs": []
    },
    {
      "cell_type": "code",
      "source": [
        "# range : for문과 함께 자주 사용. 입력받은 숫자에 해당하는 범위값을 반복 가능한 객체로 만들어 준다. range함수는 0부터 시작한다\n",
        "# range(1,10,2) : 1부터 9까지 2의 간격으로\n",
        "# range(0, -10, -1) : 0부터 -9까지, 숫자 사의 거리는 -1\n",
        "\n",
        "list(range(5))"
      ],
      "metadata": {
        "colab": {
          "base_uri": "https://localhost:8080/"
        },
        "id": "jFKx3BaIkPWB",
        "outputId": "10b7e996-b054-45a8-deb2-25cce80e42c4"
      },
      "execution_count": 53,
      "outputs": [
        {
          "output_type": "execute_result",
          "data": {
            "text/plain": [
              "[0, 1, 2, 3, 4]"
            ]
          },
          "metadata": {},
          "execution_count": 53
        }
      ]
    },
    {
      "cell_type": "code",
      "source": [
        "#round : 함수는 숫자를 입력받아 반올림해 주는 함수\n",
        "round(5.3)"
      ],
      "metadata": {
        "colab": {
          "base_uri": "https://localhost:8080/"
        },
        "id": "dfOuNiWHkPTS",
        "outputId": "8e011914-c535-419e-ce7e-dce5550f287b"
      },
      "execution_count": 54,
      "outputs": [
        {
          "output_type": "execute_result",
          "data": {
            "text/plain": [
              "5"
            ]
          },
          "metadata": {},
          "execution_count": 54
        }
      ]
    },
    {
      "cell_type": "code",
      "source": [
        "round(5.678, 2)  # 소수점 2자리까지만 반올림"
      ],
      "metadata": {
        "colab": {
          "base_uri": "https://localhost:8080/"
        },
        "id": "QmtSWkqQkPRE",
        "outputId": "f6eb9186-2158-43e4-fefb-3f0815218be8"
      },
      "execution_count": 55,
      "outputs": [
        {
          "output_type": "execute_result",
          "data": {
            "text/plain": [
              "5.68"
            ]
          },
          "metadata": {},
          "execution_count": 55
        }
      ]
    },
    {
      "cell_type": "code",
      "source": [
        "#sorted: 입력값을 정렬한 후 그 결과를 리스트로 돌려주는 함수\n",
        "sorted([3,1,2])"
      ],
      "metadata": {
        "colab": {
          "base_uri": "https://localhost:8080/"
        },
        "id": "7rY-VtzKkPOi",
        "outputId": "7d21a496-d52c-4aad-fd4c-c09346a1144f"
      },
      "execution_count": 56,
      "outputs": [
        {
          "output_type": "execute_result",
          "data": {
            "text/plain": [
              "[1, 2, 3]"
            ]
          },
          "metadata": {},
          "execution_count": 56
        }
      ]
    },
    {
      "cell_type": "code",
      "source": [
        "#str: 문자열 형태로 객체를 변환하여 돌려주는 함수\n",
        "str(3)"
      ],
      "metadata": {
        "colab": {
          "base_uri": "https://localhost:8080/",
          "height": 36
        },
        "id": "7RQtolhTkPLi",
        "outputId": "e5883fdf-f1cd-4908-b255-7f1cdba4a837"
      },
      "execution_count": 57,
      "outputs": [
        {
          "output_type": "execute_result",
          "data": {
            "text/plain": [
              "'3'"
            ],
            "application/vnd.google.colaboratory.intrinsic+json": {
              "type": "string"
            }
          },
          "metadata": {},
          "execution_count": 57
        }
      ]
    },
    {
      "cell_type": "code",
      "source": [
        "str('hi'.upper())"
      ],
      "metadata": {
        "colab": {
          "base_uri": "https://localhost:8080/",
          "height": 36
        },
        "id": "PUGmAXddkPIi",
        "outputId": "64122422-ef3c-4cf6-a0f6-64c9c9cbe480"
      },
      "execution_count": 58,
      "outputs": [
        {
          "output_type": "execute_result",
          "data": {
            "text/plain": [
              "'HI'"
            ],
            "application/vnd.google.colaboratory.intrinsic+json": {
              "type": "string"
            }
          },
          "metadata": {},
          "execution_count": 58
        }
      ]
    },
    {
      "cell_type": "code",
      "source": [
        "#sum : 입력받은 리스트나 튜플의 모든 요소의 합을 돌려주는 함수\n",
        "sum([1,2,3])"
      ],
      "metadata": {
        "colab": {
          "base_uri": "https://localhost:8080/"
        },
        "id": "6c0l4BUvncy8",
        "outputId": "b22d6020-05ad-4742-9c13-7d3b4e7f8469"
      },
      "execution_count": 59,
      "outputs": [
        {
          "output_type": "execute_result",
          "data": {
            "text/plain": [
              "6"
            ]
          },
          "metadata": {},
          "execution_count": 59
        }
      ]
    },
    {
      "cell_type": "code",
      "source": [
        "sum((4,5,6))"
      ],
      "metadata": {
        "colab": {
          "base_uri": "https://localhost:8080/"
        },
        "id": "QK9FINxUncs8",
        "outputId": "163abd1f-d235-480f-e5fe-9b01606966b4"
      },
      "execution_count": 60,
      "outputs": [
        {
          "output_type": "execute_result",
          "data": {
            "text/plain": [
              "15"
            ]
          },
          "metadata": {},
          "execution_count": 60
        }
      ]
    },
    {
      "cell_type": "code",
      "source": [
        "# tuple : 반복가능한 자료형을 입력받아 튜플형태로 바꾸어 돌려주는 함수\n",
        "tuple(\"abc\")"
      ],
      "metadata": {
        "colab": {
          "base_uri": "https://localhost:8080/"
        },
        "id": "ZuMRuAounco9",
        "outputId": "2db9369d-cf4a-49a5-ac00-1338bf4a2e23"
      },
      "execution_count": 61,
      "outputs": [
        {
          "output_type": "execute_result",
          "data": {
            "text/plain": [
              "('a', 'b', 'c')"
            ]
          },
          "metadata": {},
          "execution_count": 61
        }
      ]
    },
    {
      "cell_type": "code",
      "source": [
        "tuple([1,2,3])"
      ],
      "metadata": {
        "colab": {
          "base_uri": "https://localhost:8080/"
        },
        "id": "uS2MiXVOtgDd",
        "outputId": "700fc42d-38cc-4348-fa31-7b9a19c08204"
      },
      "execution_count": 62,
      "outputs": [
        {
          "output_type": "execute_result",
          "data": {
            "text/plain": [
              "(1, 2, 3)"
            ]
          },
          "metadata": {},
          "execution_count": 62
        }
      ]
    },
    {
      "cell_type": "code",
      "source": [
        "#type : 입력값의 자료형이 무엇인지 알려주는 함수\n",
        "type(\"abc\")"
      ],
      "metadata": {
        "colab": {
          "base_uri": "https://localhost:8080/"
        },
        "id": "5gvo4WUAtgAp",
        "outputId": "0345d41a-88aa-44ff-fdd4-f4197662c8c3"
      },
      "execution_count": 63,
      "outputs": [
        {
          "output_type": "execute_result",
          "data": {
            "text/plain": [
              "str"
            ]
          },
          "metadata": {},
          "execution_count": 63
        }
      ]
    },
    {
      "cell_type": "code",
      "source": [
        "print(type([]))"
      ],
      "metadata": {
        "colab": {
          "base_uri": "https://localhost:8080/"
        },
        "id": "z6bySFsltf91",
        "outputId": "48d89a80-933f-4732-f9eb-466b2d1c4383"
      },
      "execution_count": 65,
      "outputs": [
        {
          "output_type": "stream",
          "name": "stdout",
          "text": [
            "<class 'list'>\n"
          ]
        }
      ]
    },
    {
      "cell_type": "code",
      "source": [
        "#zip : 동일한 개수로 이루어진 자료를 묶어 주는 역할\n",
        "list(zip([1,2,3],[4,5,6]))"
      ],
      "metadata": {
        "colab": {
          "base_uri": "https://localhost:8080/"
        },
        "id": "m-ROJsyytf50",
        "outputId": "41d4b776-6649-4151-ab75-87c7b7d1612a"
      },
      "execution_count": 66,
      "outputs": [
        {
          "output_type": "execute_result",
          "data": {
            "text/plain": [
              "[(1, 4), (2, 5), (3, 6)]"
            ]
          },
          "metadata": {},
          "execution_count": 66
        }
      ]
    },
    {
      "cell_type": "markdown",
      "source": [
        "6. 라이브러리"
      ],
      "metadata": {
        "id": "1-FeTiS-RTdb"
      }
    },
    {
      "cell_type": "code",
      "source": [
        "import time\n",
        "time.time()"
      ],
      "metadata": {
        "colab": {
          "base_uri": "https://localhost:8080/"
        },
        "id": "d6DkhbSiRVkm",
        "outputId": "51cd4c52-9395-4fa1-d645-a0ea6114537c"
      },
      "execution_count": 67,
      "outputs": [
        {
          "output_type": "execute_result",
          "data": {
            "text/plain": [
              "1647769685.6027076"
            ]
          },
          "metadata": {},
          "execution_count": 67
        }
      ]
    },
    {
      "cell_type": "code",
      "source": [
        "import calendar\n",
        "calendar.prmonth(2022,3)"
      ],
      "metadata": {
        "colab": {
          "base_uri": "https://localhost:8080/"
        },
        "id": "aTUZFjNhuguQ",
        "outputId": "03f47f95-118b-4b40-f48f-446432d9f63e"
      },
      "execution_count": 71,
      "outputs": [
        {
          "output_type": "stream",
          "name": "stdout",
          "text": [
            "     March 2022\n",
            "Mo Tu We Th Fr Sa Su\n",
            "    1  2  3  4  5  6\n",
            " 7  8  9 10 11 12 13\n",
            "14 15 16 17 18 19 20\n",
            "21 22 23 24 25 26 27\n",
            "28 29 30 31\n"
          ]
        }
      ]
    },
    {
      "cell_type": "code",
      "source": [
        "#random, randint\n",
        "\n",
        "import random\n",
        "random.random()   # 0에서 1사이의 실수 중에서  난수 값을 돌려준다"
      ],
      "metadata": {
        "colab": {
          "base_uri": "https://localhost:8080/"
        },
        "id": "SnH-SN9su0EW",
        "outputId": "6dd8c065-6efb-4dbc-f01a-5143ab4d2b05"
      },
      "execution_count": 73,
      "outputs": [
        {
          "output_type": "execute_result",
          "data": {
            "text/plain": [
              "0.5672061353395562"
            ]
          },
          "metadata": {},
          "execution_count": 73
        }
      ]
    },
    {
      "cell_type": "code",
      "source": [
        "random.randint(1,10) # 1에서 10사이의 정수 중에서 난수 값을 돌려준다"
      ],
      "metadata": {
        "colab": {
          "base_uri": "https://localhost:8080/"
        },
        "id": "YeDWVdnHvYjn",
        "outputId": "655e7258-86ec-4392-af65-8cae02267eaa"
      },
      "execution_count": 74,
      "outputs": [
        {
          "output_type": "execute_result",
          "data": {
            "text/plain": [
              "4"
            ]
          },
          "metadata": {},
          "execution_count": 74
        }
      ]
    },
    {
      "cell_type": "code",
      "source": [
        "import webbrowser\n",
        "webbrowser.open(\"http://google.com\")"
      ],
      "metadata": {
        "colab": {
          "base_uri": "https://localhost:8080/"
        },
        "id": "cA06gBnJvk6B",
        "outputId": "b04ea54d-2f94-46e2-c437-67ec5a85f2a3"
      },
      "execution_count": 75,
      "outputs": [
        {
          "output_type": "execute_result",
          "data": {
            "text/plain": [
              "False"
            ]
          },
          "metadata": {},
          "execution_count": 75
        }
      ]
    },
    {
      "cell_type": "code",
      "source": [
        ""
      ],
      "metadata": {
        "id": "wyczsTgJwJmH"
      },
      "execution_count": null,
      "outputs": []
    }
  ]
}